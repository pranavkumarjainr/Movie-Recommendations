{
 "cells": [
  {
   "cell_type": "markdown",
   "id": "3210481a",
   "metadata": {},
   "source": [
    "# Movie Recommendations"
   ]
  },
  {
   "cell_type": "markdown",
   "id": "1d88afc3",
   "metadata": {},
   "source": [
    "### Setting directory and importing essential libraries"
   ]
  },
  {
   "cell_type": "code",
   "execution_count": 7,
   "id": "04377b8b",
   "metadata": {},
   "outputs": [],
   "source": [
    "setwd(\"C:/Users/Pranav/Desktop/Data Mining/Project\")"
   ]
  },
  {
   "cell_type": "code",
   "execution_count": 8,
   "id": "2cc4bf30",
   "metadata": {},
   "outputs": [],
   "source": [
    "library(recommenderlab)\n",
    "library(ggplot2)\n",
    "library(data.table)\n",
    "library(reshape2)"
   ]
  },
  {
   "cell_type": "markdown",
   "id": "57279e87",
   "metadata": {},
   "source": [
    "### Loading Datasets"
   ]
  },
  {
   "cell_type": "code",
   "execution_count": 12,
   "id": "c074d919",
   "metadata": {},
   "outputs": [],
   "source": [
    "movie_data = read.csv('movies.csv', stringsAsFactors = FALSE)\n",
    "ratings_data = read.csv('ratings.csv')"
   ]
  },
  {
   "cell_type": "code",
   "execution_count": 13,
   "id": "ac8951b2",
   "metadata": {
    "scrolled": true
   },
   "outputs": [
    {
     "data": {
      "text/html": [
       "<table class=\"dataframe\">\n",
       "<caption>A data.frame: 6 × 3</caption>\n",
       "<thead>\n",
       "\t<tr><th></th><th scope=col>movieId</th><th scope=col>title</th><th scope=col>genres</th></tr>\n",
       "\t<tr><th></th><th scope=col>&lt;int&gt;</th><th scope=col>&lt;chr&gt;</th><th scope=col>&lt;chr&gt;</th></tr>\n",
       "</thead>\n",
       "<tbody>\n",
       "\t<tr><th scope=row>1</th><td>1</td><td>Toy Story (1995)                  </td><td>Adventure|Animation|Children|Comedy|Fantasy</td></tr>\n",
       "\t<tr><th scope=row>2</th><td>2</td><td>Jumanji (1995)                    </td><td>Adventure|Children|Fantasy                 </td></tr>\n",
       "\t<tr><th scope=row>3</th><td>3</td><td>Grumpier Old Men (1995)           </td><td>Comedy|Romance                             </td></tr>\n",
       "\t<tr><th scope=row>4</th><td>4</td><td>Waiting to Exhale (1995)          </td><td>Comedy|Drama|Romance                       </td></tr>\n",
       "\t<tr><th scope=row>5</th><td>5</td><td>Father of the Bride Part II (1995)</td><td>Comedy                                     </td></tr>\n",
       "\t<tr><th scope=row>6</th><td>6</td><td>Heat (1995)                       </td><td>Action|Crime|Thriller                      </td></tr>\n",
       "</tbody>\n",
       "</table>\n"
      ],
      "text/latex": [
       "A data.frame: 6 × 3\n",
       "\\begin{tabular}{r|lll}\n",
       "  & movieId & title & genres\\\\\n",
       "  & <int> & <chr> & <chr>\\\\\n",
       "\\hline\n",
       "\t1 & 1 & Toy Story (1995)                   & Adventure\\textbar{}Animation\\textbar{}Children\\textbar{}Comedy\\textbar{}Fantasy\\\\\n",
       "\t2 & 2 & Jumanji (1995)                     & Adventure\\textbar{}Children\\textbar{}Fantasy                 \\\\\n",
       "\t3 & 3 & Grumpier Old Men (1995)            & Comedy\\textbar{}Romance                             \\\\\n",
       "\t4 & 4 & Waiting to Exhale (1995)           & Comedy\\textbar{}Drama\\textbar{}Romance                       \\\\\n",
       "\t5 & 5 & Father of the Bride Part II (1995) & Comedy                                     \\\\\n",
       "\t6 & 6 & Heat (1995)                        & Action\\textbar{}Crime\\textbar{}Thriller                      \\\\\n",
       "\\end{tabular}\n"
      ],
      "text/markdown": [
       "\n",
       "A data.frame: 6 × 3\n",
       "\n",
       "| <!--/--> | movieId &lt;int&gt; | title &lt;chr&gt; | genres &lt;chr&gt; |\n",
       "|---|---|---|---|\n",
       "| 1 | 1 | Toy Story (1995)                   | Adventure|Animation|Children|Comedy|Fantasy |\n",
       "| 2 | 2 | Jumanji (1995)                     | Adventure|Children|Fantasy                  |\n",
       "| 3 | 3 | Grumpier Old Men (1995)            | Comedy|Romance                              |\n",
       "| 4 | 4 | Waiting to Exhale (1995)           | Comedy|Drama|Romance                        |\n",
       "| 5 | 5 | Father of the Bride Part II (1995) | Comedy                                      |\n",
       "| 6 | 6 | Heat (1995)                        | Action|Crime|Thriller                       |\n",
       "\n"
      ],
      "text/plain": [
       "  movieId title                             \n",
       "1 1       Toy Story (1995)                  \n",
       "2 2       Jumanji (1995)                    \n",
       "3 3       Grumpier Old Men (1995)           \n",
       "4 4       Waiting to Exhale (1995)          \n",
       "5 5       Father of the Bride Part II (1995)\n",
       "6 6       Heat (1995)                       \n",
       "  genres                                     \n",
       "1 Adventure|Animation|Children|Comedy|Fantasy\n",
       "2 Adventure|Children|Fantasy                 \n",
       "3 Comedy|Romance                             \n",
       "4 Comedy|Drama|Romance                       \n",
       "5 Comedy                                     \n",
       "6 Action|Crime|Thriller                      "
      ]
     },
     "metadata": {},
     "output_type": "display_data"
    }
   ],
   "source": [
    "head(movie_data)"
   ]
  },
  {
   "cell_type": "code",
   "execution_count": 15,
   "id": "8b396b3a",
   "metadata": {},
   "outputs": [
    {
     "name": "stdout",
     "output_type": "stream",
     "text": [
      "'data.frame':\t10329 obs. of  3 variables:\n",
      " $ movieId: int  1 2 3 4 5 6 7 8 9 10 ...\n",
      " $ title  : chr  \"Toy Story (1995)\" \"Jumanji (1995)\" \"Grumpier Old Men (1995)\" \"Waiting to Exhale (1995)\" ...\n",
      " $ genres : chr  \"Adventure|Animation|Children|Comedy|Fantasy\" \"Adventure|Children|Fantasy\" \"Comedy|Romance\" \"Comedy|Drama|Romance\" ...\n"
     ]
    }
   ],
   "source": [
    "str(movie_data)"
   ]
  },
  {
   "cell_type": "code",
   "execution_count": 16,
   "id": "31d59e90",
   "metadata": {},
   "outputs": [
    {
     "data": {
      "text/html": [
       "<table class=\"dataframe\">\n",
       "<caption>A data.frame: 6 × 4</caption>\n",
       "<thead>\n",
       "\t<tr><th></th><th scope=col>userId</th><th scope=col>movieId</th><th scope=col>rating</th><th scope=col>timestamp</th></tr>\n",
       "\t<tr><th></th><th scope=col>&lt;int&gt;</th><th scope=col>&lt;int&gt;</th><th scope=col>&lt;dbl&gt;</th><th scope=col>&lt;int&gt;</th></tr>\n",
       "</thead>\n",
       "<tbody>\n",
       "\t<tr><th scope=row>1</th><td>1</td><td> 16</td><td>4.0</td><td>1217897793</td></tr>\n",
       "\t<tr><th scope=row>2</th><td>1</td><td> 24</td><td>1.5</td><td>1217895807</td></tr>\n",
       "\t<tr><th scope=row>3</th><td>1</td><td> 32</td><td>4.0</td><td>1217896246</td></tr>\n",
       "\t<tr><th scope=row>4</th><td>1</td><td> 47</td><td>4.0</td><td>1217896556</td></tr>\n",
       "\t<tr><th scope=row>5</th><td>1</td><td> 50</td><td>4.0</td><td>1217896523</td></tr>\n",
       "\t<tr><th scope=row>6</th><td>1</td><td>110</td><td>4.0</td><td>1217896150</td></tr>\n",
       "</tbody>\n",
       "</table>\n"
      ],
      "text/latex": [
       "A data.frame: 6 × 4\n",
       "\\begin{tabular}{r|llll}\n",
       "  & userId & movieId & rating & timestamp\\\\\n",
       "  & <int> & <int> & <dbl> & <int>\\\\\n",
       "\\hline\n",
       "\t1 & 1 &  16 & 4.0 & 1217897793\\\\\n",
       "\t2 & 1 &  24 & 1.5 & 1217895807\\\\\n",
       "\t3 & 1 &  32 & 4.0 & 1217896246\\\\\n",
       "\t4 & 1 &  47 & 4.0 & 1217896556\\\\\n",
       "\t5 & 1 &  50 & 4.0 & 1217896523\\\\\n",
       "\t6 & 1 & 110 & 4.0 & 1217896150\\\\\n",
       "\\end{tabular}\n"
      ],
      "text/markdown": [
       "\n",
       "A data.frame: 6 × 4\n",
       "\n",
       "| <!--/--> | userId &lt;int&gt; | movieId &lt;int&gt; | rating &lt;dbl&gt; | timestamp &lt;int&gt; |\n",
       "|---|---|---|---|---|\n",
       "| 1 | 1 |  16 | 4.0 | 1217897793 |\n",
       "| 2 | 1 |  24 | 1.5 | 1217895807 |\n",
       "| 3 | 1 |  32 | 4.0 | 1217896246 |\n",
       "| 4 | 1 |  47 | 4.0 | 1217896556 |\n",
       "| 5 | 1 |  50 | 4.0 | 1217896523 |\n",
       "| 6 | 1 | 110 | 4.0 | 1217896150 |\n",
       "\n"
      ],
      "text/plain": [
       "  userId movieId rating timestamp \n",
       "1 1       16     4.0    1217897793\n",
       "2 1       24     1.5    1217895807\n",
       "3 1       32     4.0    1217896246\n",
       "4 1       47     4.0    1217896556\n",
       "5 1       50     4.0    1217896523\n",
       "6 1      110     4.0    1217896150"
      ]
     },
     "metadata": {},
     "output_type": "display_data"
    }
   ],
   "source": [
    "head(ratings_data)"
   ]
  },
  {
   "cell_type": "code",
   "execution_count": 17,
   "id": "c971e9d8",
   "metadata": {},
   "outputs": [
    {
     "data": {
      "text/plain": [
       "     userId         movieId           rating        timestamp        \n",
       " Min.   :  1.0   Min.   :     1   Min.   :0.500   Min.   :8.286e+08  \n",
       " 1st Qu.:192.0   1st Qu.:  1073   1st Qu.:3.000   1st Qu.:9.711e+08  \n",
       " Median :383.0   Median :  2497   Median :3.500   Median :1.115e+09  \n",
       " Mean   :364.9   Mean   : 13381   Mean   :3.517   Mean   :1.130e+09  \n",
       " 3rd Qu.:557.0   3rd Qu.:  5991   3rd Qu.:4.000   3rd Qu.:1.275e+09  \n",
       " Max.   :668.0   Max.   :149532   Max.   :5.000   Max.   :1.452e+09  "
      ]
     },
     "metadata": {},
     "output_type": "display_data"
    }
   ],
   "source": [
    "summary(ratings_data)"
   ]
  },
  {
   "cell_type": "markdown",
   "id": "f48cd463",
   "metadata": {},
   "source": [
    "### Data Pre-processing"
   ]
  },
  {
   "cell_type": "code",
   "execution_count": 58,
   "id": "8fdfed44",
   "metadata": {
    "ExecuteTime": {
     "end_time": "2021-09-12T09:27:17.581594Z",
     "start_time": "2021-09-12T09:27:17.519Z"
    }
   },
   "outputs": [],
   "source": [
    "movie_genres = as.data.frame(movie_data$genres, stringsAsFactors = FALSE)\n",
    "movie_genres2 = as.data.frame(tstrsplit(movie_genres[,1], \"[|]\", type.convert = TRUE),\n",
    "                stringsAsFactors = FALSE)\n",
    "colnames(movie_genres2) = c(1:10)"
   ]
  },
  {
   "cell_type": "code",
   "execution_count": 71,
   "id": "3189bb71",
   "metadata": {
    "ExecuteTime": {
     "end_time": "2021-09-12T09:50:59.724579Z",
     "start_time": "2021-09-12T09:50:59.476Z"
    }
   },
   "outputs": [],
   "source": [
    "list_genre = c(\"Action\", \"Adventure\", \"Animation\", \"Children\", \"Comedy\", \"Crime\",\"Documentary\", \n",
    "                \"Drama\", \"Fantasy\",\"Film-Noir\", \"Horror\", \"Musical\", \"Mystery\",\"Romance\",\n",
    "                \"Sci-Fi\", \"Thriller\", \"War\", \"Western\")\n",
    "genre_mat1 = matrix(0, 10330, 18)\n",
    "genre_mat1[1,] = list_genre\n",
    "colnames(genre_mat1) = list_genre"
   ]
  },
  {
   "cell_type": "code",
   "execution_count": 74,
   "id": "1324790c",
   "metadata": {
    "ExecuteTime": {
     "end_time": "2021-09-12T09:51:43.246876Z",
     "start_time": "2021-09-12T09:51:40.691Z"
    }
   },
   "outputs": [
    {
     "name": "stdout",
     "output_type": "stream",
     "text": [
      "'data.frame':\t10329 obs. of  18 variables:\n",
      " $ Action     : int  0 0 0 0 0 1 0 0 1 1 ...\n",
      " $ Adventure  : int  1 1 0 0 0 0 0 1 0 1 ...\n",
      " $ Animation  : int  1 0 0 0 0 0 0 0 0 0 ...\n",
      " $ Children   : int  1 1 0 0 0 0 0 1 0 0 ...\n",
      " $ Comedy     : int  1 0 1 1 1 0 1 0 0 0 ...\n",
      " $ Crime      : int  0 0 0 0 0 1 0 0 0 0 ...\n",
      " $ Documentary: int  0 0 0 0 0 0 0 0 0 0 ...\n",
      " $ Drama      : int  0 0 0 1 0 0 0 0 0 0 ...\n",
      " $ Fantasy    : int  1 1 0 0 0 0 0 0 0 0 ...\n",
      " $ Film-Noir  : int  0 0 0 0 0 0 0 0 0 0 ...\n",
      " $ Horror     : int  0 0 0 0 0 0 0 0 0 0 ...\n",
      " $ Musical    : int  0 0 0 0 0 0 0 0 0 0 ...\n",
      " $ Mystery    : int  0 0 0 0 0 0 0 0 0 0 ...\n",
      " $ Romance    : int  0 0 1 1 0 0 1 0 0 0 ...\n",
      " $ Sci-Fi     : int  0 0 0 0 0 0 0 0 0 0 ...\n",
      " $ Thriller   : int  0 0 0 0 0 1 0 0 0 1 ...\n",
      " $ War        : int  0 0 0 0 0 0 0 0 0 0 ...\n",
      " $ Western    : int  0 0 0 0 0 0 0 0 0 0 ...\n"
     ]
    }
   ],
   "source": [
    "for (index in 1:nrow(movie_genres2)){\n",
    "    for (col in 1:ncol(movie_genres2)){\n",
    "        gen_col = which(genre_mat1[1,] == movie_genres2[index, col])\n",
    "        genre_mat1[index+1, gen_col] = 1\n",
    "    }\n",
    "}\n",
    "genre_mat2 = as.data.frame(genre_mat1[-1,], stringsAsFactors = FALSE)\n",
    "for (col in 1:ncol(genre_mat2)){\n",
    "    genre_mat2[,col] = as.integer(genre_mat2[,col])\n",
    "}\n",
    "\n",
    "str(genre_mat2)"
   ]
  },
  {
   "cell_type": "code",
   "execution_count": 69,
   "id": "08923ce8",
   "metadata": {
    "ExecuteTime": {
     "end_time": "2021-09-12T09:49:54.379507Z",
     "start_time": "2021-09-12T09:49:54.320Z"
    }
   },
   "outputs": [
    {
     "data": {
      "text/html": [
       "<table class=\"dataframe\">\n",
       "<caption>A data.frame: 6 × 20</caption>\n",
       "<thead>\n",
       "\t<tr><th></th><th scope=col>movieId</th><th scope=col>title</th><th scope=col>Action</th><th scope=col>Adventure</th><th scope=col>Animation</th><th scope=col>Children</th><th scope=col>Comedy</th><th scope=col>Crime</th><th scope=col>Documentary</th><th scope=col>Drama</th><th scope=col>Fantasy</th><th scope=col>Film-Noir</th><th scope=col>Horror</th><th scope=col>Musical</th><th scope=col>Mystery</th><th scope=col>Romance</th><th scope=col>Sci-Fi</th><th scope=col>Thriller</th><th scope=col>War</th><th scope=col>Western</th></tr>\n",
       "\t<tr><th></th><th scope=col>&lt;int&gt;</th><th scope=col>&lt;chr&gt;</th><th scope=col>&lt;int&gt;</th><th scope=col>&lt;int&gt;</th><th scope=col>&lt;int&gt;</th><th scope=col>&lt;int&gt;</th><th scope=col>&lt;int&gt;</th><th scope=col>&lt;int&gt;</th><th scope=col>&lt;int&gt;</th><th scope=col>&lt;int&gt;</th><th scope=col>&lt;int&gt;</th><th scope=col>&lt;int&gt;</th><th scope=col>&lt;int&gt;</th><th scope=col>&lt;int&gt;</th><th scope=col>&lt;int&gt;</th><th scope=col>&lt;int&gt;</th><th scope=col>&lt;int&gt;</th><th scope=col>&lt;int&gt;</th><th scope=col>&lt;int&gt;</th><th scope=col>&lt;int&gt;</th></tr>\n",
       "</thead>\n",
       "<tbody>\n",
       "\t<tr><th scope=row>1</th><td>1</td><td>Toy Story (1995)                  </td><td>0</td><td>1</td><td>1</td><td>1</td><td>1</td><td>0</td><td>0</td><td>0</td><td>1</td><td>0</td><td>0</td><td>0</td><td>0</td><td>0</td><td>0</td><td>0</td><td>0</td><td>0</td></tr>\n",
       "\t<tr><th scope=row>2</th><td>2</td><td>Jumanji (1995)                    </td><td>0</td><td>1</td><td>0</td><td>1</td><td>0</td><td>0</td><td>0</td><td>0</td><td>1</td><td>0</td><td>0</td><td>0</td><td>0</td><td>0</td><td>0</td><td>0</td><td>0</td><td>0</td></tr>\n",
       "\t<tr><th scope=row>3</th><td>3</td><td>Grumpier Old Men (1995)           </td><td>0</td><td>0</td><td>0</td><td>0</td><td>1</td><td>0</td><td>0</td><td>0</td><td>0</td><td>0</td><td>0</td><td>0</td><td>0</td><td>1</td><td>0</td><td>0</td><td>0</td><td>0</td></tr>\n",
       "\t<tr><th scope=row>4</th><td>4</td><td>Waiting to Exhale (1995)          </td><td>0</td><td>0</td><td>0</td><td>0</td><td>1</td><td>0</td><td>0</td><td>1</td><td>0</td><td>0</td><td>0</td><td>0</td><td>0</td><td>1</td><td>0</td><td>0</td><td>0</td><td>0</td></tr>\n",
       "\t<tr><th scope=row>5</th><td>5</td><td>Father of the Bride Part II (1995)</td><td>0</td><td>0</td><td>0</td><td>0</td><td>1</td><td>0</td><td>0</td><td>0</td><td>0</td><td>0</td><td>0</td><td>0</td><td>0</td><td>0</td><td>0</td><td>0</td><td>0</td><td>0</td></tr>\n",
       "\t<tr><th scope=row>6</th><td>6</td><td>Heat (1995)                       </td><td>1</td><td>0</td><td>0</td><td>0</td><td>0</td><td>1</td><td>0</td><td>0</td><td>0</td><td>0</td><td>0</td><td>0</td><td>0</td><td>0</td><td>0</td><td>1</td><td>0</td><td>0</td></tr>\n",
       "</tbody>\n",
       "</table>\n"
      ],
      "text/latex": [
       "A data.frame: 6 × 20\n",
       "\\begin{tabular}{r|llllllllllllllllllll}\n",
       "  & movieId & title & Action & Adventure & Animation & Children & Comedy & Crime & Documentary & Drama & Fantasy & Film-Noir & Horror & Musical & Mystery & Romance & Sci-Fi & Thriller & War & Western\\\\\n",
       "  & <int> & <chr> & <int> & <int> & <int> & <int> & <int> & <int> & <int> & <int> & <int> & <int> & <int> & <int> & <int> & <int> & <int> & <int> & <int> & <int>\\\\\n",
       "\\hline\n",
       "\t1 & 1 & Toy Story (1995)                   & 0 & 1 & 1 & 1 & 1 & 0 & 0 & 0 & 1 & 0 & 0 & 0 & 0 & 0 & 0 & 0 & 0 & 0\\\\\n",
       "\t2 & 2 & Jumanji (1995)                     & 0 & 1 & 0 & 1 & 0 & 0 & 0 & 0 & 1 & 0 & 0 & 0 & 0 & 0 & 0 & 0 & 0 & 0\\\\\n",
       "\t3 & 3 & Grumpier Old Men (1995)            & 0 & 0 & 0 & 0 & 1 & 0 & 0 & 0 & 0 & 0 & 0 & 0 & 0 & 1 & 0 & 0 & 0 & 0\\\\\n",
       "\t4 & 4 & Waiting to Exhale (1995)           & 0 & 0 & 0 & 0 & 1 & 0 & 0 & 1 & 0 & 0 & 0 & 0 & 0 & 1 & 0 & 0 & 0 & 0\\\\\n",
       "\t5 & 5 & Father of the Bride Part II (1995) & 0 & 0 & 0 & 0 & 1 & 0 & 0 & 0 & 0 & 0 & 0 & 0 & 0 & 0 & 0 & 0 & 0 & 0\\\\\n",
       "\t6 & 6 & Heat (1995)                        & 1 & 0 & 0 & 0 & 0 & 1 & 0 & 0 & 0 & 0 & 0 & 0 & 0 & 0 & 0 & 1 & 0 & 0\\\\\n",
       "\\end{tabular}\n"
      ],
      "text/markdown": [
       "\n",
       "A data.frame: 6 × 20\n",
       "\n",
       "| <!--/--> | movieId &lt;int&gt; | title &lt;chr&gt; | Action &lt;int&gt; | Adventure &lt;int&gt; | Animation &lt;int&gt; | Children &lt;int&gt; | Comedy &lt;int&gt; | Crime &lt;int&gt; | Documentary &lt;int&gt; | Drama &lt;int&gt; | Fantasy &lt;int&gt; | Film-Noir &lt;int&gt; | Horror &lt;int&gt; | Musical &lt;int&gt; | Mystery &lt;int&gt; | Romance &lt;int&gt; | Sci-Fi &lt;int&gt; | Thriller &lt;int&gt; | War &lt;int&gt; | Western &lt;int&gt; |\n",
       "|---|---|---|---|---|---|---|---|---|---|---|---|---|---|---|---|---|---|---|---|---|\n",
       "| 1 | 1 | Toy Story (1995)                   | 0 | 1 | 1 | 1 | 1 | 0 | 0 | 0 | 1 | 0 | 0 | 0 | 0 | 0 | 0 | 0 | 0 | 0 |\n",
       "| 2 | 2 | Jumanji (1995)                     | 0 | 1 | 0 | 1 | 0 | 0 | 0 | 0 | 1 | 0 | 0 | 0 | 0 | 0 | 0 | 0 | 0 | 0 |\n",
       "| 3 | 3 | Grumpier Old Men (1995)            | 0 | 0 | 0 | 0 | 1 | 0 | 0 | 0 | 0 | 0 | 0 | 0 | 0 | 1 | 0 | 0 | 0 | 0 |\n",
       "| 4 | 4 | Waiting to Exhale (1995)           | 0 | 0 | 0 | 0 | 1 | 0 | 0 | 1 | 0 | 0 | 0 | 0 | 0 | 1 | 0 | 0 | 0 | 0 |\n",
       "| 5 | 5 | Father of the Bride Part II (1995) | 0 | 0 | 0 | 0 | 1 | 0 | 0 | 0 | 0 | 0 | 0 | 0 | 0 | 0 | 0 | 0 | 0 | 0 |\n",
       "| 6 | 6 | Heat (1995)                        | 1 | 0 | 0 | 0 | 0 | 1 | 0 | 0 | 0 | 0 | 0 | 0 | 0 | 0 | 0 | 1 | 0 | 0 |\n",
       "\n"
      ],
      "text/plain": [
       "  movieId title                              Action Adventure Animation\n",
       "1 1       Toy Story (1995)                   0      1         1        \n",
       "2 2       Jumanji (1995)                     0      1         0        \n",
       "3 3       Grumpier Old Men (1995)            0      0         0        \n",
       "4 4       Waiting to Exhale (1995)           0      0         0        \n",
       "5 5       Father of the Bride Part II (1995) 0      0         0        \n",
       "6 6       Heat (1995)                        1      0         0        \n",
       "  Children Comedy Crime Documentary Drama Fantasy Film-Noir Horror Musical\n",
       "1 1        1      0     0           0     1       0         0      0      \n",
       "2 1        0      0     0           0     1       0         0      0      \n",
       "3 0        1      0     0           0     0       0         0      0      \n",
       "4 0        1      0     0           1     0       0         0      0      \n",
       "5 0        1      0     0           0     0       0         0      0      \n",
       "6 0        0      1     0           0     0       0         0      0      \n",
       "  Mystery Romance Sci-Fi Thriller War Western\n",
       "1 0       0       0      0        0   0      \n",
       "2 0       0       0      0        0   0      \n",
       "3 0       1       0      0        0   0      \n",
       "4 0       1       0      0        0   0      \n",
       "5 0       0       0      0        0   0      \n",
       "6 0       0       0      1        0   0      "
      ]
     },
     "metadata": {},
     "output_type": "display_data"
    }
   ],
   "source": [
    "search_matrix = cbind(movie_data[,1:2], genre_mat2[])\n",
    "head(search_matrix)"
   ]
  },
  {
   "cell_type": "code",
   "execution_count": 91,
   "id": "b538bde4",
   "metadata": {
    "ExecuteTime": {
     "end_time": "2021-09-12T10:13:34.819766Z",
     "start_time": "2021-09-12T10:13:34.224Z"
    }
   },
   "outputs": [
    {
     "data": {
      "text/plain": [
       "668 x 10325 rating matrix of class 'realRatingMatrix' with 105339 ratings."
      ]
     },
     "metadata": {},
     "output_type": "display_data"
    }
   ],
   "source": [
    "rating_matrix = dcast(ratings_data, userId~movieId, value.var = 'rating', na.rm=FALSE)\n",
    "rating_matrix = as.matrix(rating_matrix[,-1])\n",
    "rating_matrix = as(rating_matrix,\"realRatingMatrix\")\n",
    "rating_matrix"
   ]
  },
  {
   "cell_type": "code",
   "execution_count": 88,
   "id": "77ba5c3f",
   "metadata": {
    "ExecuteTime": {
     "end_time": "2021-09-12T10:07:42.847158Z",
     "start_time": "2021-09-12T10:07:42.803Z"
    }
   },
   "outputs": [
    {
     "data": {
      "text/html": [
       "<dl>\n",
       "\t<dt>$HYBRID_realRatingMatrix</dt>\n",
       "\t\t<dd>'Hybrid recommender that aggegates several recommendation strategies using weighted averages.'</dd>\n",
       "\t<dt>$ALS_realRatingMatrix</dt>\n",
       "\t\t<dd>'Recommender for explicit ratings based on latent factors, calculated by alternating least squares algorithm.'</dd>\n",
       "\t<dt>$ALS_implicit_realRatingMatrix</dt>\n",
       "\t\t<dd>'Recommender for implicit data based on latent factors, calculated by alternating least squares algorithm.'</dd>\n",
       "\t<dt>$IBCF_realRatingMatrix</dt>\n",
       "\t\t<dd>'Recommender based on item-based collaborative filtering.'</dd>\n",
       "\t<dt>$LIBMF_realRatingMatrix</dt>\n",
       "\t\t<dd>'Matrix factorization with LIBMF via package recosystem (https://cran.r-project.org/web/packages/recosystem/vignettes/introduction.html).'</dd>\n",
       "\t<dt>$POPULAR_realRatingMatrix</dt>\n",
       "\t\t<dd>'Recommender based on item popularity.'</dd>\n",
       "\t<dt>$RANDOM_realRatingMatrix</dt>\n",
       "\t\t<dd>'Produce random recommendations (real ratings).'</dd>\n",
       "\t<dt>$RERECOMMEND_realRatingMatrix</dt>\n",
       "\t\t<dd>'Re-recommends highly rated items (real ratings).'</dd>\n",
       "\t<dt>$SVD_realRatingMatrix</dt>\n",
       "\t\t<dd>'Recommender based on SVD approximation with column-mean imputation.'</dd>\n",
       "\t<dt>$SVDF_realRatingMatrix</dt>\n",
       "\t\t<dd>'Recommender based on Funk SVD with gradient descend (https://sifter.org/~simon/journal/20061211.html).'</dd>\n",
       "\t<dt>$UBCF_realRatingMatrix</dt>\n",
       "\t\t<dd>'Recommender based on user-based collaborative filtering.'</dd>\n",
       "</dl>\n"
      ],
      "text/latex": [
       "\\begin{description}\n",
       "\\item[\\$HYBRID\\_realRatingMatrix] 'Hybrid recommender that aggegates several recommendation strategies using weighted averages.'\n",
       "\\item[\\$ALS\\_realRatingMatrix] 'Recommender for explicit ratings based on latent factors, calculated by alternating least squares algorithm.'\n",
       "\\item[\\$ALS\\_implicit\\_realRatingMatrix] 'Recommender for implicit data based on latent factors, calculated by alternating least squares algorithm.'\n",
       "\\item[\\$IBCF\\_realRatingMatrix] 'Recommender based on item-based collaborative filtering.'\n",
       "\\item[\\$LIBMF\\_realRatingMatrix] 'Matrix factorization with LIBMF via package recosystem (https://cran.r-project.org/web/packages/recosystem/vignettes/introduction.html).'\n",
       "\\item[\\$POPULAR\\_realRatingMatrix] 'Recommender based on item popularity.'\n",
       "\\item[\\$RANDOM\\_realRatingMatrix] 'Produce random recommendations (real ratings).'\n",
       "\\item[\\$RERECOMMEND\\_realRatingMatrix] 'Re-recommends highly rated items (real ratings).'\n",
       "\\item[\\$SVD\\_realRatingMatrix] 'Recommender based on SVD approximation with column-mean imputation.'\n",
       "\\item[\\$SVDF\\_realRatingMatrix] 'Recommender based on Funk SVD with gradient descend (https://sifter.org/\\textasciitilde{}simon/journal/20061211.html).'\n",
       "\\item[\\$UBCF\\_realRatingMatrix] 'Recommender based on user-based collaborative filtering.'\n",
       "\\end{description}\n"
      ],
      "text/markdown": [
       "$HYBRID_realRatingMatrix\n",
       ":   'Hybrid recommender that aggegates several recommendation strategies using weighted averages.'\n",
       "$ALS_realRatingMatrix\n",
       ":   'Recommender for explicit ratings based on latent factors, calculated by alternating least squares algorithm.'\n",
       "$ALS_implicit_realRatingMatrix\n",
       ":   'Recommender for implicit data based on latent factors, calculated by alternating least squares algorithm.'\n",
       "$IBCF_realRatingMatrix\n",
       ":   'Recommender based on item-based collaborative filtering.'\n",
       "$LIBMF_realRatingMatrix\n",
       ":   'Matrix factorization with LIBMF via package recosystem (https://cran.r-project.org/web/packages/recosystem/vignettes/introduction.html).'\n",
       "$POPULAR_realRatingMatrix\n",
       ":   'Recommender based on item popularity.'\n",
       "$RANDOM_realRatingMatrix\n",
       ":   'Produce random recommendations (real ratings).'\n",
       "$RERECOMMEND_realRatingMatrix\n",
       ":   'Re-recommends highly rated items (real ratings).'\n",
       "$SVD_realRatingMatrix\n",
       ":   'Recommender based on SVD approximation with column-mean imputation.'\n",
       "$SVDF_realRatingMatrix\n",
       ":   'Recommender based on Funk SVD with gradient descend (https://sifter.org/~simon/journal/20061211.html).'\n",
       "$UBCF_realRatingMatrix\n",
       ":   'Recommender based on user-based collaborative filtering.'\n",
       "\n",
       "\n"
      ],
      "text/plain": [
       "$HYBRID_realRatingMatrix\n",
       "[1] \"Hybrid recommender that aggegates several recommendation strategies using weighted averages.\"\n",
       "\n",
       "$ALS_realRatingMatrix\n",
       "[1] \"Recommender for explicit ratings based on latent factors, calculated by alternating least squares algorithm.\"\n",
       "\n",
       "$ALS_implicit_realRatingMatrix\n",
       "[1] \"Recommender for implicit data based on latent factors, calculated by alternating least squares algorithm.\"\n",
       "\n",
       "$IBCF_realRatingMatrix\n",
       "[1] \"Recommender based on item-based collaborative filtering.\"\n",
       "\n",
       "$LIBMF_realRatingMatrix\n",
       "[1] \"Matrix factorization with LIBMF via package recosystem (https://cran.r-project.org/web/packages/recosystem/vignettes/introduction.html).\"\n",
       "\n",
       "$POPULAR_realRatingMatrix\n",
       "[1] \"Recommender based on item popularity.\"\n",
       "\n",
       "$RANDOM_realRatingMatrix\n",
       "[1] \"Produce random recommendations (real ratings).\"\n",
       "\n",
       "$RERECOMMEND_realRatingMatrix\n",
       "[1] \"Re-recommends highly rated items (real ratings).\"\n",
       "\n",
       "$SVD_realRatingMatrix\n",
       "[1] \"Recommender based on SVD approximation with column-mean imputation.\"\n",
       "\n",
       "$SVDF_realRatingMatrix\n",
       "[1] \"Recommender based on Funk SVD with gradient descend (https://sifter.org/~simon/journal/20061211.html).\"\n",
       "\n",
       "$UBCF_realRatingMatrix\n",
       "[1] \"Recommender based on user-based collaborative filtering.\"\n"
      ]
     },
     "metadata": {},
     "output_type": "display_data"
    }
   ],
   "source": [
    "recommendation_model = recommenderRegistry$get_entries(dataType = \"realRatingMatrix\")\n",
    "lapply(recommendation_model, \"[[\", \"description\")"
   ]
  },
  {
   "cell_type": "code",
   "execution_count": 89,
   "id": "514e5d51",
   "metadata": {
    "ExecuteTime": {
     "end_time": "2021-09-12T10:08:03.045934Z",
     "start_time": "2021-09-12T10:08:03.004Z"
    }
   },
   "outputs": [
    {
     "data": {
      "text/html": [
       "<dl>\n",
       "\t<dt>$k</dt>\n",
       "\t\t<dd>30</dd>\n",
       "\t<dt>$method</dt>\n",
       "\t\t<dd>'Cosine'</dd>\n",
       "\t<dt>$normalize</dt>\n",
       "\t\t<dd>'center'</dd>\n",
       "\t<dt>$normalize_sim_matrix</dt>\n",
       "\t\t<dd>FALSE</dd>\n",
       "\t<dt>$alpha</dt>\n",
       "\t\t<dd>0.5</dd>\n",
       "\t<dt>$na_as_zero</dt>\n",
       "\t\t<dd>FALSE</dd>\n",
       "</dl>\n"
      ],
      "text/latex": [
       "\\begin{description}\n",
       "\\item[\\$k] 30\n",
       "\\item[\\$method] 'Cosine'\n",
       "\\item[\\$normalize] 'center'\n",
       "\\item[\\$normalize\\_sim\\_matrix] FALSE\n",
       "\\item[\\$alpha] 0.5\n",
       "\\item[\\$na\\_as\\_zero] FALSE\n",
       "\\end{description}\n"
      ],
      "text/markdown": [
       "$k\n",
       ":   30\n",
       "$method\n",
       ":   'Cosine'\n",
       "$normalize\n",
       ":   'center'\n",
       "$normalize_sim_matrix\n",
       ":   FALSE\n",
       "$alpha\n",
       ":   0.5\n",
       "$na_as_zero\n",
       ":   FALSE\n",
       "\n",
       "\n"
      ],
      "text/plain": [
       "$k\n",
       "[1] 30\n",
       "\n",
       "$method\n",
       "[1] \"Cosine\"\n",
       "\n",
       "$normalize\n",
       "[1] \"center\"\n",
       "\n",
       "$normalize_sim_matrix\n",
       "[1] FALSE\n",
       "\n",
       "$alpha\n",
       "[1] 0.5\n",
       "\n",
       "$na_as_zero\n",
       "[1] FALSE\n"
      ]
     },
     "metadata": {},
     "output_type": "display_data"
    }
   ],
   "source": [
    "recommendation_model$IBCF_realRatingMatrix$parameters"
   ]
  },
  {
   "cell_type": "code",
   "execution_count": 94,
   "id": "44f93f0d",
   "metadata": {
    "ExecuteTime": {
     "end_time": "2021-09-12T10:15:16.019294Z",
     "start_time": "2021-09-12T10:15:15.974Z"
    }
   },
   "outputs": [
    {
     "data": {
      "text/html": [
       "<table class=\"dataframe\">\n",
       "<caption>A matrix: 4 × 4 of type dbl</caption>\n",
       "<thead>\n",
       "\t<tr><th></th><th scope=col>1</th><th scope=col>2</th><th scope=col>3</th><th scope=col>4</th></tr>\n",
       "</thead>\n",
       "<tbody>\n",
       "\t<tr><th scope=row>1</th><td>0.0000000</td><td>0.9760860</td><td>0.9641723</td><td>0.9914398</td></tr>\n",
       "\t<tr><th scope=row>2</th><td>0.9760860</td><td>0.0000000</td><td>0.9925732</td><td>0.9374253</td></tr>\n",
       "\t<tr><th scope=row>3</th><td>0.9641723</td><td>0.9925732</td><td>0.0000000</td><td>0.9888968</td></tr>\n",
       "\t<tr><th scope=row>4</th><td>0.9914398</td><td>0.9374253</td><td>0.9888968</td><td>0.0000000</td></tr>\n",
       "</tbody>\n",
       "</table>\n"
      ],
      "text/latex": [
       "A matrix: 4 × 4 of type dbl\n",
       "\\begin{tabular}{r|llll}\n",
       "  & 1 & 2 & 3 & 4\\\\\n",
       "\\hline\n",
       "\t1 & 0.0000000 & 0.9760860 & 0.9641723 & 0.9914398\\\\\n",
       "\t2 & 0.9760860 & 0.0000000 & 0.9925732 & 0.9374253\\\\\n",
       "\t3 & 0.9641723 & 0.9925732 & 0.0000000 & 0.9888968\\\\\n",
       "\t4 & 0.9914398 & 0.9374253 & 0.9888968 & 0.0000000\\\\\n",
       "\\end{tabular}\n"
      ],
      "text/markdown": [
       "\n",
       "A matrix: 4 × 4 of type dbl\n",
       "\n",
       "| <!--/--> | 1 | 2 | 3 | 4 |\n",
       "|---|---|---|---|---|\n",
       "| 1 | 0.0000000 | 0.9760860 | 0.9641723 | 0.9914398 |\n",
       "| 2 | 0.9760860 | 0.0000000 | 0.9925732 | 0.9374253 |\n",
       "| 3 | 0.9641723 | 0.9925732 | 0.0000000 | 0.9888968 |\n",
       "| 4 | 0.9914398 | 0.9374253 | 0.9888968 | 0.0000000 |\n",
       "\n"
      ],
      "text/plain": [
       "  1         2         3         4        \n",
       "1 0.0000000 0.9760860 0.9641723 0.9914398\n",
       "2 0.9760860 0.0000000 0.9925732 0.9374253\n",
       "3 0.9641723 0.9925732 0.0000000 0.9888968\n",
       "4 0.9914398 0.9374253 0.9888968 0.0000000"
      ]
     },
     "metadata": {},
     "output_type": "display_data"
    }
   ],
   "source": [
    "similarity_mat = similarity(ratingMatrix[1:4, ], method = \"cosine\", which = \"users\")\n",
    "as.matrix(similarity_mat)"
   ]
  },
  {
   "cell_type": "code",
   "execution_count": 96,
   "id": "09cb9f35",
   "metadata": {
    "ExecuteTime": {
     "end_time": "2021-09-12T10:19:36.544574Z",
     "start_time": "2021-09-12T10:19:36.495Z"
    }
   },
   "outputs": [
    {
     "data": {
      "text/html": [
       "<table class=\"dataframe\">\n",
       "<caption>A matrix: 4 × 4 of type dbl</caption>\n",
       "<thead>\n",
       "\t<tr><th></th><th scope=col>1</th><th scope=col>2</th><th scope=col>3</th><th scope=col>4</th></tr>\n",
       "</thead>\n",
       "<tbody>\n",
       "\t<tr><th scope=row>1</th><td>0.0000000</td><td>0.9669732</td><td>0.9559341</td><td>0.9101276</td></tr>\n",
       "\t<tr><th scope=row>2</th><td>0.9669732</td><td>0.0000000</td><td>0.9658757</td><td>0.9412416</td></tr>\n",
       "\t<tr><th scope=row>3</th><td>0.9559341</td><td>0.9658757</td><td>0.0000000</td><td>0.9864877</td></tr>\n",
       "\t<tr><th scope=row>4</th><td>0.9101276</td><td>0.9412416</td><td>0.9864877</td><td>0.0000000</td></tr>\n",
       "</tbody>\n",
       "</table>\n"
      ],
      "text/latex": [
       "A matrix: 4 × 4 of type dbl\n",
       "\\begin{tabular}{r|llll}\n",
       "  & 1 & 2 & 3 & 4\\\\\n",
       "\\hline\n",
       "\t1 & 0.0000000 & 0.9669732 & 0.9559341 & 0.9101276\\\\\n",
       "\t2 & 0.9669732 & 0.0000000 & 0.9658757 & 0.9412416\\\\\n",
       "\t3 & 0.9559341 & 0.9658757 & 0.0000000 & 0.9864877\\\\\n",
       "\t4 & 0.9101276 & 0.9412416 & 0.9864877 & 0.0000000\\\\\n",
       "\\end{tabular}\n"
      ],
      "text/markdown": [
       "\n",
       "A matrix: 4 × 4 of type dbl\n",
       "\n",
       "| <!--/--> | 1 | 2 | 3 | 4 |\n",
       "|---|---|---|---|---|\n",
       "| 1 | 0.0000000 | 0.9669732 | 0.9559341 | 0.9101276 |\n",
       "| 2 | 0.9669732 | 0.0000000 | 0.9658757 | 0.9412416 |\n",
       "| 3 | 0.9559341 | 0.9658757 | 0.0000000 | 0.9864877 |\n",
       "| 4 | 0.9101276 | 0.9412416 | 0.9864877 | 0.0000000 |\n",
       "\n"
      ],
      "text/plain": [
       "  1         2         3         4        \n",
       "1 0.0000000 0.9669732 0.9559341 0.9101276\n",
       "2 0.9669732 0.0000000 0.9658757 0.9412416\n",
       "3 0.9559341 0.9658757 0.0000000 0.9864877\n",
       "4 0.9101276 0.9412416 0.9864877 0.0000000"
      ]
     },
     "metadata": {},
     "output_type": "display_data"
    }
   ],
   "source": [
    "movie_similarity = similarity(ratingMatrix[, 1:4], method = \"cosine\", which = \"items\")\n",
    "as.matrix(movie_similarity)"
   ]
  },
  {
   "cell_type": "markdown",
   "id": "7db0a8f8",
   "metadata": {},
   "source": [
    "### Data Visualization"
   ]
  },
  {
   "cell_type": "code",
   "execution_count": 99,
   "id": "75b78f5b",
   "metadata": {
    "ExecuteTime": {
     "end_time": "2021-09-12T12:57:11.368048Z",
     "start_time": "2021-09-12T12:56:31.030Z"
    }
   },
   "outputs": [
    {
     "data": {
      "text/html": [
       "<table class=\"dataframe\">\n",
       "<caption>A data.frame: 6 × 3</caption>\n",
       "<thead>\n",
       "\t<tr><th></th><th scope=col>movie</th><th scope=col>views</th><th scope=col>title</th></tr>\n",
       "\t<tr><th></th><th scope=col>&lt;chr&gt;</th><th scope=col>&lt;int&gt;</th><th scope=col>&lt;chr&gt;</th></tr>\n",
       "</thead>\n",
       "<tbody>\n",
       "\t<tr><th scope=row>296</th><td>296</td><td>325</td><td>Pulp Fiction (1994)                      </td></tr>\n",
       "\t<tr><th scope=row>356</th><td>356</td><td>311</td><td>Forrest Gump (1994)                      </td></tr>\n",
       "\t<tr><th scope=row>318</th><td>318</td><td>308</td><td>Shawshank Redemption, The (1994)         </td></tr>\n",
       "\t<tr><th scope=row>480</th><td>480</td><td>294</td><td>Jurassic Park (1993)                     </td></tr>\n",
       "\t<tr><th scope=row>593</th><td>593</td><td>290</td><td>Silence of the Lambs, The (1991)         </td></tr>\n",
       "\t<tr><th scope=row>260</th><td>260</td><td>273</td><td>Star Wars: Episode IV - A New Hope (1977)</td></tr>\n",
       "</tbody>\n",
       "</table>\n"
      ],
      "text/latex": [
       "A data.frame: 6 × 3\n",
       "\\begin{tabular}{r|lll}\n",
       "  & movie & views & title\\\\\n",
       "  & <chr> & <int> & <chr>\\\\\n",
       "\\hline\n",
       "\t296 & 296 & 325 & Pulp Fiction (1994)                      \\\\\n",
       "\t356 & 356 & 311 & Forrest Gump (1994)                      \\\\\n",
       "\t318 & 318 & 308 & Shawshank Redemption, The (1994)         \\\\\n",
       "\t480 & 480 & 294 & Jurassic Park (1993)                     \\\\\n",
       "\t593 & 593 & 290 & Silence of the Lambs, The (1991)         \\\\\n",
       "\t260 & 260 & 273 & Star Wars: Episode IV - A New Hope (1977)\\\\\n",
       "\\end{tabular}\n"
      ],
      "text/markdown": [
       "\n",
       "A data.frame: 6 × 3\n",
       "\n",
       "| <!--/--> | movie &lt;chr&gt; | views &lt;int&gt; | title &lt;chr&gt; |\n",
       "|---|---|---|---|\n",
       "| 296 | 296 | 325 | Pulp Fiction (1994)                       |\n",
       "| 356 | 356 | 311 | Forrest Gump (1994)                       |\n",
       "| 318 | 318 | 308 | Shawshank Redemption, The (1994)          |\n",
       "| 480 | 480 | 294 | Jurassic Park (1993)                      |\n",
       "| 593 | 593 | 290 | Silence of the Lambs, The (1991)          |\n",
       "| 260 | 260 | 273 | Star Wars: Episode IV - A New Hope (1977) |\n",
       "\n"
      ],
      "text/plain": [
       "    movie views title                                    \n",
       "296 296   325   Pulp Fiction (1994)                      \n",
       "356 356   311   Forrest Gump (1994)                      \n",
       "318 318   308   Shawshank Redemption, The (1994)         \n",
       "480 480   294   Jurassic Park (1993)                     \n",
       "593 593   290   Silence of the Lambs, The (1991)         \n",
       "260 260   273   Star Wars: Episode IV - A New Hope (1977)"
      ]
     },
     "metadata": {},
     "output_type": "display_data"
    }
   ],
   "source": [
    "movie_views = colCounts(ratingMatrix)\n",
    "table_views = data.frame(movie = names(movie_views), views = movie_views)\n",
    "table_views = table_views[order(table_views$views, decreasing = TRUE),] # sort by number of views\n",
    "table_views$title = NA\n",
    "for (index in 1:10325){\n",
    "  table_views[index,3] = as.character(subset(movie_data, \n",
    "                         movie_data$movieId == table_views[index,1])$title)\n",
    "}\n",
    "table_views[1:6,]"
   ]
  },
  {
   "cell_type": "code",
   "execution_count": 117,
   "id": "5bcab183",
   "metadata": {
    "ExecuteTime": {
     "end_time": "2021-09-12T13:02:18.878670Z",
     "start_time": "2021-09-12T13:02:18.668Z"
    }
   },
   "outputs": [
    {
     "data": {
      "image/png": "[encoded data removed]",
      "text/plain": [
       "plot without title"
      ]
     },
     "metadata": {
      "image/png": {
       "height": 420,
       "width": 420
      }
     },
     "output_type": "display_data"
    }
   ],
   "source": [
    "ggplot(table_views[1:6, ], aes(x = title, y = views)) +\n",
    "  geom_bar(stat=\"identity\", fill = 'steelblue') +\n",
    "  geom_text(aes(label=views), vjust=-0.5, size=4.0) +\n",
    "  theme(axis.text.x = element_text(angle = 35, hjust = 1)) +\n",
    "  ggtitle(\"Total Views of the Top Films\")"
   ]
  },
  {
   "cell_type": "markdown",
   "id": "2f7bca2f",
   "metadata": {},
   "source": [
    "### Data Preparation"
   ]
  },
  {
   "cell_type": "code",
   "execution_count": 119,
   "id": "1e6e295a",
   "metadata": {
    "ExecuteTime": {
     "end_time": "2021-09-12T13:07:35.257980Z",
     "start_time": "2021-09-12T13:07:35.212Z"
    }
   },
   "outputs": [
    {
     "data": {
      "text/plain": [
       "420 x 447 rating matrix of class 'realRatingMatrix' with 38341 ratings."
      ]
     },
     "metadata": {},
     "output_type": "display_data"
    }
   ],
   "source": [
    "movie_ratings = ratingMatrix[rowCounts(ratingMatrix) > 50, colCounts(ratingMatrix) > 50]\n",
    "movie_ratings"
   ]
  },
  {
   "cell_type": "code",
   "execution_count": 124,
   "id": "4491db2e",
   "metadata": {
    "ExecuteTime": {
     "end_time": "2021-09-12T13:08:34.273711Z",
     "start_time": "2021-09-12T13:08:34.004Z"
    }
   },
   "outputs": [
    {
     "name": "stderr",
     "output_type": "stream",
     "text": [
      "`stat_bin()` using `bins = 30`. Pick better value with `binwidth`.\n",
      "\n"
     ]
    },
    {
     "data": {
      "image/png": "[encoded data removed]",
      "text/plain": [
       "plot without title"
      ]
     },
     "metadata": {
      "image/png": {
       "height": 420,
       "width": 420
      }
     },
     "output_type": "display_data"
    }
   ],
   "source": [
    "average_ratings = rowMeans(movie_ratings)\n",
    "qplot(average_ratings, fill=I(\"steelblue\"), col=I(\"black\")) +\n",
    "  ggtitle(\"Distribution of the average rating per user\")"
   ]
  },
  {
   "cell_type": "code",
   "execution_count": 128,
   "id": "38656428",
   "metadata": {
    "ExecuteTime": {
     "end_time": "2021-09-12T13:19:01.593435Z",
     "start_time": "2021-09-12T13:19:01.339Z"
    }
   },
   "outputs": [
    {
     "data": {
      "text/html": [
       "0"
      ],
      "text/latex": [
       "0"
      ],
      "text/markdown": [
       "0"
      ],
      "text/plain": [
       "[1] 0"
      ]
     },
     "metadata": {},
     "output_type": "display_data"
    },
    {
     "data": {
      "image/png": "[encoded data removed]",
      "text/plain": [
       "plot without title"
      ]
     },
     "metadata": {
      "image/png": {
       "height": 420,
       "width": 420
      }
     },
     "output_type": "display_data"
    }
   ],
   "source": [
    "minimum_movies = quantile(rowCounts(movie_ratings), 0.98)\n",
    "minimum_users = quantile(colCounts(movie_ratings), 0.98)\n",
    "\n",
    "normalized_ratings = normalize(movie_ratings)\n",
    "sum(rowMeans(normalized_ratings) > 0.00001)\n",
    "image(normalized_ratings[rowCounts(normalized_ratings) > minimum_movies,\n",
    "    colCounts(normalized_ratings) > minimum_users], main = \"Normalized Ratings of the Top Users\")"
   ]
  },
  {
   "cell_type": "code",
   "execution_count": 129,
   "id": "423d614b",
   "metadata": {
    "ExecuteTime": {
     "end_time": "2021-09-12T13:19:04.038245Z",
     "start_time": "2021-09-12T13:19:03.809Z"
    }
   },
   "outputs": [
    {
     "data": {
      "image/png": "[encoded data removed]",
      "text/plain": [
       "plot without title"
      ]
     },
     "metadata": {
      "image/png": {
       "height": 420,
       "width": 420
      }
     },
     "output_type": "display_data"
    }
   ],
   "source": [
    "binary_minimum_movies = quantile(rowCounts(movie_ratings), 0.95)\n",
    "binary_minimum_users = quantile(colCounts(movie_ratings), 0.95)\n",
    "# movies_watched = binarize(movie_ratings, minRating = 1)\n",
    "good_rated_films = binarize(movie_ratings, minRating = 3)\n",
    "image(good_rated_films[rowCounts(movie_ratings) > binary_minimum_movies,\n",
    "colCounts(movie_ratings) > binary_minimum_users],\n",
    "main = \"Heatmap of the top users and movies\")"
   ]
  },
  {
   "cell_type": "markdown",
   "id": "33d8a1de",
   "metadata": {},
   "source": [
    "### Recommendation system"
   ]
  },
  {
   "cell_type": "code",
   "execution_count": 130,
   "id": "1c195d03",
   "metadata": {
    "ExecuteTime": {
     "end_time": "2021-09-12T15:10:46.676239Z",
     "start_time": "2021-09-12T15:10:46.587Z"
    }
   },
   "outputs": [],
   "source": [
    "sampled_data = sample(x = c(TRUE,FALSE),size = nrow(movie_ratings),replace = TRUE,prob = c(0.8, 0.2))\n",
    "training_data = movie_ratings[sampled_data, ]\n",
    "testing_data = movie_ratings[!sampled_data, ]"
   ]
  },
  {
   "cell_type": "code",
   "execution_count": 131,
   "id": "ff5490a1",
   "metadata": {
    "ExecuteTime": {
     "end_time": "2021-09-12T15:35:43.851444Z",
     "start_time": "2021-09-12T15:35:43.808Z"
    }
   },
   "outputs": [
    {
     "data": {
      "text/html": [
       "<dl>\n",
       "\t<dt>$k</dt>\n",
       "\t\t<dd>30</dd>\n",
       "\t<dt>$method</dt>\n",
       "\t\t<dd>'Cosine'</dd>\n",
       "\t<dt>$normalize</dt>\n",
       "\t\t<dd>'center'</dd>\n",
       "\t<dt>$normalize_sim_matrix</dt>\n",
       "\t\t<dd>FALSE</dd>\n",
       "\t<dt>$alpha</dt>\n",
       "\t\t<dd>0.5</dd>\n",
       "\t<dt>$na_as_zero</dt>\n",
       "\t\t<dd>FALSE</dd>\n",
       "</dl>\n"
      ],
      "text/latex": [
       "\\begin{description}\n",
       "\\item[\\$k] 30\n",
       "\\item[\\$method] 'Cosine'\n",
       "\\item[\\$normalize] 'center'\n",
       "\\item[\\$normalize\\_sim\\_matrix] FALSE\n",
       "\\item[\\$alpha] 0.5\n",
       "\\item[\\$na\\_as\\_zero] FALSE\n",
       "\\end{description}\n"
      ],
      "text/markdown": [
       "$k\n",
       ":   30\n",
       "$method\n",
       ":   'Cosine'\n",
       "$normalize\n",
       ":   'center'\n",
       "$normalize_sim_matrix\n",
       ":   FALSE\n",
       "$alpha\n",
       ":   0.5\n",
       "$na_as_zero\n",
       ":   FALSE\n",
       "\n",
       "\n"
      ],
      "text/plain": [
       "$k\n",
       "[1] 30\n",
       "\n",
       "$method\n",
       "[1] \"Cosine\"\n",
       "\n",
       "$normalize\n",
       "[1] \"center\"\n",
       "\n",
       "$normalize_sim_matrix\n",
       "[1] FALSE\n",
       "\n",
       "$alpha\n",
       "[1] 0.5\n",
       "\n",
       "$na_as_zero\n",
       "[1] FALSE\n"
      ]
     },
     "metadata": {},
     "output_type": "display_data"
    }
   ],
   "source": [
    "recommendation_system = recommenderRegistry$get_entries(dataType =\"realRatingMatrix\")\n",
    "recommendation_system$IBCF_realRatingMatrix$parameters"
   ]
  },
  {
   "cell_type": "code",
   "execution_count": 133,
   "id": "a4a3aeb6",
   "metadata": {
    "ExecuteTime": {
     "end_time": "2021-09-12T15:37:36.485282Z",
     "start_time": "2021-09-12T15:37:36.182Z"
    }
   },
   "outputs": [
    {
     "data": {
      "text/plain": [
       "Recommender of type 'IBCF' for 'realRatingMatrix' \n",
       "learned using 338 users."
      ]
     },
     "metadata": {},
     "output_type": "display_data"
    },
    {
     "data": {
      "text/html": [
       "'Recommender'"
      ],
      "text/latex": [
       "'Recommender'"
      ],
      "text/markdown": [
       "'Recommender'"
      ],
      "text/plain": [
       "[1] \"Recommender\"\n",
       "attr(,\"package\")\n",
       "[1] \"recommenderlab\""
      ]
     },
     "metadata": {},
     "output_type": "display_data"
    }
   ],
   "source": [
    "recommen_model = Recommender(data = training_data, method = \"IBCF\", parameter = list(k = 30))\n",
    "recommen_model\n",
    "class(recommen_model)"
   ]
  },
  {
   "cell_type": "code",
   "execution_count": 134,
   "id": "3ad265af",
   "metadata": {
    "ExecuteTime": {
     "end_time": "2021-09-12T15:38:53.490072Z",
     "start_time": "2021-09-12T15:38:53.202Z"
    }
   },
   "outputs": [
    {
     "data": {
      "text/html": [
       "'dgCMatrix'"
      ],
      "text/latex": [
       "'dgCMatrix'"
      ],
      "text/markdown": [
       "'dgCMatrix'"
      ],
      "text/plain": [
       "[1] \"dgCMatrix\"\n",
       "attr(,\"package\")\n",
       "[1] \"Matrix\""
      ]
     },
     "metadata": {},
     "output_type": "display_data"
    },
    {
     "data": {
      "text/html": [
       "<style>\n",
       ".list-inline {list-style: none; margin:0; padding: 0}\n",
       ".list-inline>li {display: inline-block}\n",
       ".list-inline>li:not(:last-child)::after {content: \"\\00b7\"; padding: 0 .5ex}\n",
       "</style>\n",
       "<ol class=list-inline><li>447</li><li>447</li></ol>\n"
      ],
      "text/latex": [
       "\\begin{enumerate*}\n",
       "\\item 447\n",
       "\\item 447\n",
       "\\end{enumerate*}\n"
      ],
      "text/markdown": [
       "1. 447\n",
       "2. 447\n",
       "\n",
       "\n"
      ],
      "text/plain": [
       "[1] 447 447"
      ]
     },
     "metadata": {},
     "output_type": "display_data"
    },
    {
     "data": {
      "image/png": "[encoded data removed]",
      "text/plain": [
       "plot without title"
      ]
     },
     "metadata": {
      "image/png": {
       "height": 420,
       "width": 420
      }
     },
     "output_type": "display_data"
    }
   ],
   "source": [
    "model_info = getModel(recommen_model)\n",
    "class(model_info$sim)\n",
    "dim(model_info$sim)\n",
    "top_items = 20\n",
    "image(model_info$sim[1:top_items, 1:top_items],\n",
    "   main = \"Heatmap of the first rows and columns\")"
   ]
  },
  {
   "cell_type": "code",
   "execution_count": 135,
   "id": "4457f2b3",
   "metadata": {
    "ExecuteTime": {
     "end_time": "2021-09-12T15:39:47.845720Z",
     "start_time": "2021-09-12T15:39:47.510Z"
    }
   },
   "outputs": [
    {
     "data": {
      "text/plain": [
       "sum_rows\n",
       " 30 \n",
       "447 "
      ]
     },
     "metadata": {},
     "output_type": "display_data"
    },
    {
     "name": "stderr",
     "output_type": "stream",
     "text": [
      "`stat_bin()` using `bins = 30`. Pick better value with `binwidth`.\n",
      "\n"
     ]
    },
    {
     "data": {
      "image/png": "[encoded data removed]",
      "text/plain": [
       "plot without title"
      ]
     },
     "metadata": {
      "image/png": {
       "height": 420,
       "width": 420
      }
     },
     "output_type": "display_data"
    }
   ],
   "source": [
    "sum_rows = rowSums(model_info$sim > 0)\n",
    "table(sum_rows)\n",
    "sum_cols = colSums(model_info$sim > 0)\n",
    "qplot(sum_cols, fill=I(\"steelblue\"), col=I(\"black\"))+ ggtitle(\"Distribution of the column count\")"
   ]
  },
  {
   "cell_type": "code",
   "execution_count": 137,
   "id": "d1d92aa8",
   "metadata": {
    "ExecuteTime": {
     "end_time": "2021-09-12T15:41:00.496711Z",
     "start_time": "2021-09-12T15:41:00.356Z"
    }
   },
   "outputs": [
    {
     "data": {
      "text/plain": [
       "Recommendations as 'topNList' with n = 10 for 82 users. "
      ]
     },
     "metadata": {},
     "output_type": "display_data"
    }
   ],
   "source": [
    "top_recommendations = 10\n",
    "predicted_recommendations = predict(object=recommen_model,newdata=testing_data,n=top_recommendations)\n",
    "predicted_recommendations"
   ]
  },
  {
   "cell_type": "code",
   "execution_count": 138,
   "id": "e26b342c",
   "metadata": {
    "ExecuteTime": {
     "end_time": "2021-09-12T15:42:24.326997Z",
     "start_time": "2021-09-12T15:42:24.205Z"
    }
   },
   "outputs": [
    {
     "data": {
      "text/html": [
       "<style>\n",
       ".list-inline {list-style: none; margin:0; padding: 0}\n",
       ".list-inline>li {display: inline-block}\n",
       ".list-inline>li:not(:last-child)::after {content: \"\\00b7\"; padding: 0 .5ex}\n",
       "</style>\n",
       "<ol class=list-inline><li>'Toy Story (1995)'</li><li>'Casino (1995)'</li><li>'Sense and Sensibility (1995)'</li><li>'Leaving Las Vegas (1995)'</li><li>'Twelve Monkeys (a.k.a. 12 Monkeys) (1995)'</li><li>'Seven (a.k.a. Se7en) (1995)'</li><li>'Star Wars: Episode IV - A New Hope (1977)'</li><li>'Like Water for Chocolate (Como agua para chocolate) (1992)'</li><li>'LÃ©on: The Professional (a.k.a. The Professional) (LÃ©on) (1994)'</li><li>'What\\'s Eating Gilbert Grape (1993)'</li></ol>\n"
      ],
      "text/latex": [
       "\\begin{enumerate*}\n",
       "\\item 'Toy Story (1995)'\n",
       "\\item 'Casino (1995)'\n",
       "\\item 'Sense and Sensibility (1995)'\n",
       "\\item 'Leaving Las Vegas (1995)'\n",
       "\\item 'Twelve Monkeys (a.k.a. 12 Monkeys) (1995)'\n",
       "\\item 'Seven (a.k.a. Se7en) (1995)'\n",
       "\\item 'Star Wars: Episode IV - A New Hope (1977)'\n",
       "\\item 'Like Water for Chocolate (Como agua para chocolate) (1992)'\n",
       "\\item 'LÃ©on: The Professional (a.k.a. The Professional) (LÃ©on) (1994)'\n",
       "\\item 'What\\textbackslash{}'s Eating Gilbert Grape (1993)'\n",
       "\\end{enumerate*}\n"
      ],
      "text/markdown": [
       "1. 'Toy Story (1995)'\n",
       "2. 'Casino (1995)'\n",
       "3. 'Sense and Sensibility (1995)'\n",
       "4. 'Leaving Las Vegas (1995)'\n",
       "5. 'Twelve Monkeys (a.k.a. 12 Monkeys) (1995)'\n",
       "6. 'Seven (a.k.a. Se7en) (1995)'\n",
       "7. 'Star Wars: Episode IV - A New Hope (1977)'\n",
       "8. 'Like Water for Chocolate (Como agua para chocolate) (1992)'\n",
       "9. 'LÃ©on: The Professional (a.k.a. The Professional) (LÃ©on) (1994)'\n",
       "10. 'What\\'s Eating Gilbert Grape (1993)'\n",
       "\n",
       "\n"
      ],
      "text/plain": [
       " [1] \"Toy Story (1995)\"                                                \n",
       " [2] \"Casino (1995)\"                                                   \n",
       " [3] \"Sense and Sensibility (1995)\"                                    \n",
       " [4] \"Leaving Las Vegas (1995)\"                                        \n",
       " [5] \"Twelve Monkeys (a.k.a. 12 Monkeys) (1995)\"                       \n",
       " [6] \"Seven (a.k.a. Se7en) (1995)\"                                     \n",
       " [7] \"Star Wars: Episode IV - A New Hope (1977)\"                       \n",
       " [8] \"Like Water for Chocolate (Como agua para chocolate) (1992)\"      \n",
       " [9] \"LÃ©on: The Professional (a.k.a. The Professional) (LÃ©on) (1994)\"\n",
       "[10] \"What's Eating Gilbert Grape (1993)\"                              "
      ]
     },
     "metadata": {},
     "output_type": "display_data"
    }
   ],
   "source": [
    "user1 = predicted_recommendations@items[[1]]\n",
    "movies_user1 = predicted_recommendations@itemLabels[user1]\n",
    "movies_user2 = movies_user1\n",
    "for (index in 1:10){\n",
    "  movies_user2[index]=as.character(subset(movie_data, movie_data$movieId==movies_user1[index])$title)\n",
    "}\n",
    "movies_user2"
   ]
  },
  {
   "cell_type": "code",
   "execution_count": 139,
   "id": "a674aab7",
   "metadata": {
    "ExecuteTime": {
     "end_time": "2021-09-12T15:43:20.647811Z",
     "start_time": "2021-09-12T15:43:20.589Z"
    }
   },
   "outputs": [
    {
     "data": {
      "text/html": [
       "<table class=\"dataframe\">\n",
       "<caption>A matrix: 10 × 4 of type int</caption>\n",
       "<tbody>\n",
       "\t<tr><td>  1</td><td>  6</td><td> 7438</td><td>  6</td></tr>\n",
       "\t<tr><td> 16</td><td> 17</td><td>  778</td><td> 17</td></tr>\n",
       "\t<tr><td> 17</td><td> 62</td><td> 2997</td><td>185</td></tr>\n",
       "\t<tr><td> 25</td><td>235</td><td>58559</td><td>261</td></tr>\n",
       "\t<tr><td> 32</td><td>288</td><td> 1263</td><td>288</td></tr>\n",
       "\t<tr><td> 47</td><td>440</td><td> 4979</td><td>368</td></tr>\n",
       "\t<tr><td>260</td><td>593</td><td>  111</td><td>590</td></tr>\n",
       "\t<tr><td>265</td><td>908</td><td>  529</td><td>594</td></tr>\n",
       "\t<tr><td>293</td><td>913</td><td>  551</td><td>733</td></tr>\n",
       "\t<tr><td>337</td><td>923</td><td>  903</td><td>736</td></tr>\n",
       "</tbody>\n",
       "</table>\n"
      ],
      "text/latex": [
       "A matrix: 10 × 4 of type int\n",
       "\\begin{tabular}{llll}\n",
       "\t   1 &   6 &  7438 &   6\\\\\n",
       "\t  16 &  17 &   778 &  17\\\\\n",
       "\t  17 &  62 &  2997 & 185\\\\\n",
       "\t  25 & 235 & 58559 & 261\\\\\n",
       "\t  32 & 288 &  1263 & 288\\\\\n",
       "\t  47 & 440 &  4979 & 368\\\\\n",
       "\t 260 & 593 &   111 & 590\\\\\n",
       "\t 265 & 908 &   529 & 594\\\\\n",
       "\t 293 & 913 &   551 & 733\\\\\n",
       "\t 337 & 923 &   903 & 736\\\\\n",
       "\\end{tabular}\n"
      ],
      "text/markdown": [
       "\n",
       "A matrix: 10 × 4 of type int\n",
       "\n",
       "|   1 |   6 |  7438 |   6 |\n",
       "|  16 |  17 |   778 |  17 |\n",
       "|  17 |  62 |  2997 | 185 |\n",
       "|  25 | 235 | 58559 | 261 |\n",
       "|  32 | 288 |  1263 | 288 |\n",
       "|  47 | 440 |  4979 | 368 |\n",
       "| 260 | 593 |   111 | 590 |\n",
       "| 265 | 908 |   529 | 594 |\n",
       "| 293 | 913 |   551 | 733 |\n",
       "| 337 | 923 |   903 | 736 |\n",
       "\n"
      ],
      "text/plain": [
       "      [,1] [,2] [,3]  [,4]\n",
       " [1,]   1    6   7438   6 \n",
       " [2,]  16   17    778  17 \n",
       " [3,]  17   62   2997 185 \n",
       " [4,]  25  235  58559 261 \n",
       " [5,]  32  288   1263 288 \n",
       " [6,]  47  440   4979 368 \n",
       " [7,] 260  593    111 590 \n",
       " [8,] 265  908    529 594 \n",
       " [9,] 293  913    551 733 \n",
       "[10,] 337  923    903 736 "
      ]
     },
     "metadata": {},
     "output_type": "display_data"
    }
   ],
   "source": [
    "recommendation_matrix <- sapply(predicted_recommendations@items,\n",
    "                      function(x){ as.integer(colnames(movie_ratings)[x]) })\n",
    "#dim(recc_matrix)\n",
    "recommendation_matrix[,1:4]"
   ]
  },
  {
   "cell_type": "code",
   "execution_count": 142,
   "id": "a4c22799",
   "metadata": {
    "ExecuteTime": {
     "end_time": "2021-09-12T15:48:05.787707Z",
     "start_time": "2021-09-12T15:48:05.534Z"
    }
   },
   "outputs": [
    {
     "data": {
      "image/png": "[encoded data removed]",
      "text/plain": [
       "plot without title"
      ]
     },
     "metadata": {
      "image/png": {
       "height": 420,
       "width": 420
      }
     },
     "output_type": "display_data"
    }
   ],
   "source": [
    "number_of_items <- factor(table(recommendation_matrix))\n",
    "chart_title <- \"Distribution of the Number of Items for IBCF\"\n",
    "qplot(number_of_items, fill=I(\"steelblue\"), col=I(\"red\")) + ggtitle(chart_title)"
   ]
  },
  {
   "cell_type": "code",
   "execution_count": 143,
   "id": "bc3c3eb8",
   "metadata": {
    "ExecuteTime": {
     "end_time": "2021-09-12T15:48:20.040733Z",
     "start_time": "2021-09-12T15:48:19.966Z"
    }
   },
   "outputs": [
    {
     "data": {
      "text/html": [
       "<table class=\"dataframe\">\n",
       "<caption>A data.frame: 4 × 2</caption>\n",
       "<thead>\n",
       "\t<tr><th></th><th scope=col>Movie Title</th><th scope=col>No. of Items</th></tr>\n",
       "\t<tr><th></th><th scope=col>&lt;chr&gt;</th><th scope=col>&lt;fct&gt;</th></tr>\n",
       "</thead>\n",
       "<tbody>\n",
       "\t<tr><th scope=row>17</th><td>Sense and Sensibility (1995)</td><td>9</td></tr>\n",
       "\t<tr><th scope=row>25</th><td>Leaving Las Vegas (1995)    </td><td>9</td></tr>\n",
       "\t<tr><th scope=row>235</th><td>Ed Wood (1994)              </td><td>9</td></tr>\n",
       "\t<tr><th scope=row>6</th><td>Heat (1995)                 </td><td>8</td></tr>\n",
       "</tbody>\n",
       "</table>\n"
      ],
      "text/latex": [
       "A data.frame: 4 × 2\n",
       "\\begin{tabular}{r|ll}\n",
       "  & Movie Title & No. of Items\\\\\n",
       "  & <chr> & <fct>\\\\\n",
       "\\hline\n",
       "\t17 & Sense and Sensibility (1995) & 9\\\\\n",
       "\t25 & Leaving Las Vegas (1995)     & 9\\\\\n",
       "\t235 & Ed Wood (1994)               & 9\\\\\n",
       "\t6 & Heat (1995)                  & 8\\\\\n",
       "\\end{tabular}\n"
      ],
      "text/markdown": [
       "\n",
       "A data.frame: 4 × 2\n",
       "\n",
       "| <!--/--> | Movie Title &lt;chr&gt; | No. of Items &lt;fct&gt; |\n",
       "|---|---|---|\n",
       "| 17 | Sense and Sensibility (1995) | 9 |\n",
       "| 25 | Leaving Las Vegas (1995)     | 9 |\n",
       "| 235 | Ed Wood (1994)               | 9 |\n",
       "| 6 | Heat (1995)                  | 8 |\n",
       "\n"
      ],
      "text/plain": [
       "    Movie Title                  No. of Items\n",
       "17  Sense and Sensibility (1995) 9           \n",
       "25  Leaving Las Vegas (1995)     9           \n",
       "235 Ed Wood (1994)               9           \n",
       "6   Heat (1995)                  8           "
      ]
     },
     "metadata": {},
     "output_type": "display_data"
    }
   ],
   "source": [
    "number_of_items_sorted <- sort(number_of_items, decreasing = TRUE)\n",
    "number_of_items_top <- head(number_of_items_sorted, n = 4)\n",
    "table_top <- data.frame(as.integer(names(number_of_items_top)),\n",
    "number_of_items_top)\n",
    "for(i in 1:4) {\n",
    "table_top[i,1] <- as.character(subset(movie_data,\n",
    "movie_data$movieId == table_top[i,1])$title)\n",
    "}\n",
    "colnames(table_top) <- c(\"Movie Title\", \"No. of Items\")\n",
    "head(table_top)"
   ]
  }
 ],
 "metadata": {
  "kernelspec": {
   "display_name": "R",
   "language": "R",
   "name": "ir"
  },
  "language_info": {
   "codemirror_mode": "r",
   "file_extension": ".r",
   "mimetype": "text/x-r-source",
   "name": "R",
   "pygments_lexer": "r",
   "version": "4.1.1"
  },
  "varInspector": {
   "cols": {
    "lenName": 16,
    "lenType": 16,
    "lenVar": 40
   },
   "kernels_config": {
    "python": {
     "delete_cmd_postfix": "",
     "delete_cmd_prefix": "del ",
     "library": "var_list.py",
     "varRefreshCmd": "print(var_dic_list())"
    },
    "r": {
     "delete_cmd_postfix": ") ",
     "delete_cmd_prefix": "rm(",
     "library": "var_list.r",
     "varRefreshCmd": "cat(var_dic_list()) "
    }
   },
   "types_to_exclude": [
    "module",
    "function",
    "builtin_function_or_method",
    "instance",
    "_Feature"
   ],
   "window_display": false
  }
 },
 "nbformat": 4,
 "nbformat_minor": 5
}
