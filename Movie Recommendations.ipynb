{
 "cells": [
  {
   "cell_type": "code",
   "execution_count": 90,
   "id": "c2ef3381",
   "metadata": {
    "ExecuteTime": {
     "end_time": "2021-09-16T15:35:16.793459Z",
     "start_time": "2021-09-16T15:35:15.590Z"
    }
   },
   "outputs": [],
   "source": [
    "movies=read.csv(\"ml-latest-small/movies.csv\")\n",
    "ratings=read.csv(\"ml-latest-small/ratings.csv\")"
   ]
  },
  {
   "cell_type": "code",
   "execution_count": 91,
   "id": "9d4bc090",
   "metadata": {
    "ExecuteTime": {
     "end_time": "2021-09-16T15:35:17.152776Z",
     "start_time": "2021-09-16T15:35:15.618Z"
    }
   },
   "outputs": [
    {
     "data": {
      "text/html": [
       "<table class=\"dataframe\">\n",
       "<caption>A data.frame: 6 × 3</caption>\n",
       "<thead>\n",
       "\t<tr><th></th><th scope=col>movieId</th><th scope=col>title</th><th scope=col>genres</th></tr>\n",
       "\t<tr><th></th><th scope=col>&lt;int&gt;</th><th scope=col>&lt;chr&gt;</th><th scope=col>&lt;chr&gt;</th></tr>\n",
       "</thead>\n",
       "<tbody>\n",
       "\t<tr><th scope=row>1</th><td>1</td><td>Toy Story (1995)                  </td><td>Adventure|Animation|Children|Comedy|Fantasy</td></tr>\n",
       "\t<tr><th scope=row>2</th><td>2</td><td>Jumanji (1995)                    </td><td>Adventure|Children|Fantasy                 </td></tr>\n",
       "\t<tr><th scope=row>3</th><td>3</td><td>Grumpier Old Men (1995)           </td><td>Comedy|Romance                             </td></tr>\n",
       "\t<tr><th scope=row>4</th><td>4</td><td>Waiting to Exhale (1995)          </td><td>Comedy|Drama|Romance                       </td></tr>\n",
       "\t<tr><th scope=row>5</th><td>5</td><td>Father of the Bride Part II (1995)</td><td>Comedy                                     </td></tr>\n",
       "\t<tr><th scope=row>6</th><td>6</td><td>Heat (1995)                       </td><td>Action|Crime|Thriller                      </td></tr>\n",
       "</tbody>\n",
       "</table>\n"
      ],
      "text/latex": [
       "A data.frame: 6 × 3\n",
       "\\begin{tabular}{r|lll}\n",
       "  & movieId & title & genres\\\\\n",
       "  & <int> & <chr> & <chr>\\\\\n",
       "\\hline\n",
       "\t1 & 1 & Toy Story (1995)                   & Adventure\\textbar{}Animation\\textbar{}Children\\textbar{}Comedy\\textbar{}Fantasy\\\\\n",
       "\t2 & 2 & Jumanji (1995)                     & Adventure\\textbar{}Children\\textbar{}Fantasy                 \\\\\n",
       "\t3 & 3 & Grumpier Old Men (1995)            & Comedy\\textbar{}Romance                             \\\\\n",
       "\t4 & 4 & Waiting to Exhale (1995)           & Comedy\\textbar{}Drama\\textbar{}Romance                       \\\\\n",
       "\t5 & 5 & Father of the Bride Part II (1995) & Comedy                                     \\\\\n",
       "\t6 & 6 & Heat (1995)                        & Action\\textbar{}Crime\\textbar{}Thriller                      \\\\\n",
       "\\end{tabular}\n"
      ],
      "text/markdown": [
       "\n",
       "A data.frame: 6 × 3\n",
       "\n",
       "| <!--/--> | movieId &lt;int&gt; | title &lt;chr&gt; | genres &lt;chr&gt; |\n",
       "|---|---|---|---|\n",
       "| 1 | 1 | Toy Story (1995)                   | Adventure|Animation|Children|Comedy|Fantasy |\n",
       "| 2 | 2 | Jumanji (1995)                     | Adventure|Children|Fantasy                  |\n",
       "| 3 | 3 | Grumpier Old Men (1995)            | Comedy|Romance                              |\n",
       "| 4 | 4 | Waiting to Exhale (1995)           | Comedy|Drama|Romance                        |\n",
       "| 5 | 5 | Father of the Bride Part II (1995) | Comedy                                      |\n",
       "| 6 | 6 | Heat (1995)                        | Action|Crime|Thriller                       |\n",
       "\n"
      ],
      "text/plain": [
       "  movieId title                             \n",
       "1 1       Toy Story (1995)                  \n",
       "2 2       Jumanji (1995)                    \n",
       "3 3       Grumpier Old Men (1995)           \n",
       "4 4       Waiting to Exhale (1995)          \n",
       "5 5       Father of the Bride Part II (1995)\n",
       "6 6       Heat (1995)                       \n",
       "  genres                                     \n",
       "1 Adventure|Animation|Children|Comedy|Fantasy\n",
       "2 Adventure|Children|Fantasy                 \n",
       "3 Comedy|Romance                             \n",
       "4 Comedy|Drama|Romance                       \n",
       "5 Comedy                                     \n",
       "6 Action|Crime|Thriller                      "
      ]
     },
     "metadata": {},
     "output_type": "display_data"
    }
   ],
   "source": [
    "head(movies)"
   ]
  },
  {
   "cell_type": "code",
   "execution_count": 92,
   "id": "fc82ead5",
   "metadata": {
    "ExecuteTime": {
     "end_time": "2021-09-16T15:35:17.254611Z",
     "start_time": "2021-09-16T15:35:15.621Z"
    }
   },
   "outputs": [
    {
     "data": {
      "text/html": [
       "<table class=\"dataframe\">\n",
       "<caption>A data.frame: 6 × 4</caption>\n",
       "<thead>\n",
       "\t<tr><th></th><th scope=col>userId</th><th scope=col>movieId</th><th scope=col>rating</th><th scope=col>timestamp</th></tr>\n",
       "\t<tr><th></th><th scope=col>&lt;int&gt;</th><th scope=col>&lt;int&gt;</th><th scope=col>&lt;dbl&gt;</th><th scope=col>&lt;int&gt;</th></tr>\n",
       "</thead>\n",
       "<tbody>\n",
       "\t<tr><th scope=row>1</th><td>1</td><td> 1</td><td>4</td><td>964982703</td></tr>\n",
       "\t<tr><th scope=row>2</th><td>1</td><td> 3</td><td>4</td><td>964981247</td></tr>\n",
       "\t<tr><th scope=row>3</th><td>1</td><td> 6</td><td>4</td><td>964982224</td></tr>\n",
       "\t<tr><th scope=row>4</th><td>1</td><td>47</td><td>5</td><td>964983815</td></tr>\n",
       "\t<tr><th scope=row>5</th><td>1</td><td>50</td><td>5</td><td>964982931</td></tr>\n",
       "\t<tr><th scope=row>6</th><td>1</td><td>70</td><td>3</td><td>964982400</td></tr>\n",
       "</tbody>\n",
       "</table>\n"
      ],
      "text/latex": [
       "A data.frame: 6 × 4\n",
       "\\begin{tabular}{r|llll}\n",
       "  & userId & movieId & rating & timestamp\\\\\n",
       "  & <int> & <int> & <dbl> & <int>\\\\\n",
       "\\hline\n",
       "\t1 & 1 &  1 & 4 & 964982703\\\\\n",
       "\t2 & 1 &  3 & 4 & 964981247\\\\\n",
       "\t3 & 1 &  6 & 4 & 964982224\\\\\n",
       "\t4 & 1 & 47 & 5 & 964983815\\\\\n",
       "\t5 & 1 & 50 & 5 & 964982931\\\\\n",
       "\t6 & 1 & 70 & 3 & 964982400\\\\\n",
       "\\end{tabular}\n"
      ],
      "text/markdown": [
       "\n",
       "A data.frame: 6 × 4\n",
       "\n",
       "| <!--/--> | userId &lt;int&gt; | movieId &lt;int&gt; | rating &lt;dbl&gt; | timestamp &lt;int&gt; |\n",
       "|---|---|---|---|---|\n",
       "| 1 | 1 |  1 | 4 | 964982703 |\n",
       "| 2 | 1 |  3 | 4 | 964981247 |\n",
       "| 3 | 1 |  6 | 4 | 964982224 |\n",
       "| 4 | 1 | 47 | 5 | 964983815 |\n",
       "| 5 | 1 | 50 | 5 | 964982931 |\n",
       "| 6 | 1 | 70 | 3 | 964982400 |\n",
       "\n"
      ],
      "text/plain": [
       "  userId movieId rating timestamp\n",
       "1 1       1      4      964982703\n",
       "2 1       3      4      964981247\n",
       "3 1       6      4      964982224\n",
       "4 1      47      5      964983815\n",
       "5 1      50      5      964982931\n",
       "6 1      70      3      964982400"
      ]
     },
     "metadata": {},
     "output_type": "display_data"
    }
   ],
   "source": [
    "head(ratings)"
   ]
  },
  {
   "cell_type": "code",
   "execution_count": 93,
   "id": "0ce8f856",
   "metadata": {
    "ExecuteTime": {
     "end_time": "2021-09-16T15:35:17.335352Z",
     "start_time": "2021-09-16T15:35:15.624Z"
    }
   },
   "outputs": [
    {
     "data": {
      "text/html": [
       "<style>\n",
       ".list-inline {list-style: none; margin:0; padding: 0}\n",
       ".list-inline>li {display: inline-block}\n",
       ".list-inline>li:not(:last-child)::after {content: \"\\00b7\"; padding: 0 .5ex}\n",
       "</style>\n",
       "<ol class=list-inline><li>9742</li><li>3</li></ol>\n"
      ],
      "text/latex": [
       "\\begin{enumerate*}\n",
       "\\item 9742\n",
       "\\item 3\n",
       "\\end{enumerate*}\n"
      ],
      "text/markdown": [
       "1. 9742\n",
       "2. 3\n",
       "\n",
       "\n"
      ],
      "text/plain": [
       "[1] 9742    3"
      ]
     },
     "metadata": {},
     "output_type": "display_data"
    },
    {
     "data": {
      "text/html": [
       "<style>\n",
       ".list-inline {list-style: none; margin:0; padding: 0}\n",
       ".list-inline>li {display: inline-block}\n",
       ".list-inline>li:not(:last-child)::after {content: \"\\00b7\"; padding: 0 .5ex}\n",
       "</style>\n",
       "<ol class=list-inline><li>100836</li><li>4</li></ol>\n"
      ],
      "text/latex": [
       "\\begin{enumerate*}\n",
       "\\item 100836\n",
       "\\item 4\n",
       "\\end{enumerate*}\n"
      ],
      "text/markdown": [
       "1. 100836\n",
       "2. 4\n",
       "\n",
       "\n"
      ],
      "text/plain": [
       "[1] 100836      4"
      ]
     },
     "metadata": {},
     "output_type": "display_data"
    }
   ],
   "source": [
    "dim(movies)\n",
    "dim(ratings)"
   ]
  },
  {
   "cell_type": "code",
   "execution_count": 94,
   "id": "d09fb925",
   "metadata": {
    "ExecuteTime": {
     "end_time": "2021-09-16T15:35:17.430098Z",
     "start_time": "2021-09-16T15:35:15.750Z"
    }
   },
   "outputs": [
    {
     "name": "stdout",
     "output_type": "stream",
     "text": [
      "'data.frame':\t9742 obs. of  3 variables:\n",
      " $ movieId: int  1 2 3 4 5 6 7 8 9 10 ...\n",
      " $ title  : chr  \"Toy Story (1995)\" \"Jumanji (1995)\" \"Grumpier Old Men (1995)\" \"Waiting to Exhale (1995)\" ...\n",
      " $ genres : chr  \"Adventure|Animation|Children|Comedy|Fantasy\" \"Adventure|Children|Fantasy\" \"Comedy|Romance\" \"Comedy|Drama|Romance\" ...\n",
      "'data.frame':\t100836 obs. of  4 variables:\n",
      " $ userId   : int  1 1 1 1 1 1 1 1 1 1 ...\n",
      " $ movieId  : int  1 3 6 47 50 70 101 110 151 157 ...\n",
      " $ rating   : num  4 4 4 5 5 3 5 4 5 5 ...\n",
      " $ timestamp: int  964982703 964981247 964982224 964983815 964982931 964982400 964980868 964982176 964984041 964984100 ...\n"
     ]
    }
   ],
   "source": [
    "str(movies)\n",
    "str(ratings)"
   ]
  },
  {
   "cell_type": "code",
   "execution_count": 95,
   "id": "3708fd81",
   "metadata": {
    "ExecuteTime": {
     "end_time": "2021-09-16T15:35:17.490930Z",
     "start_time": "2021-09-16T15:35:15.758Z"
    }
   },
   "outputs": [
    {
     "data": {
      "text/plain": [
       "   Min. 1st Qu.  Median    Mean 3rd Qu.    Max. \n",
       "  0.500   3.000   3.500   3.502   4.000   5.000 "
      ]
     },
     "metadata": {},
     "output_type": "display_data"
    }
   ],
   "source": [
    "summary(ratings$rating)"
   ]
  },
  {
   "cell_type": "code",
   "execution_count": 96,
   "id": "9602b658",
   "metadata": {
    "ExecuteTime": {
     "end_time": "2021-09-16T15:35:20.231053Z",
     "start_time": "2021-09-16T15:35:15.765Z"
    }
   },
   "outputs": [
    {
     "data": {
      "image/png": "[encoded data removed]",
      "text/plain": [
       "plot without title"
      ]
     },
     "metadata": {
      "image/png": {
       "height": 420,
       "width": 420
      }
     },
     "output_type": "display_data"
    }
   ],
   "source": [
    "ratings %>% group_by(rating) %>% summarize(count=n())%>% \n",
    "    ggplot(aes(x=rating, y=count)) + \n",
    "    geom_line() +\n",
    "    geom_point() +\n",
    "    ggtitle(\"Rating Distribution\") + \n",
    "    xlab(\"Rating\") +\n",
    "    ylab(\"Count\")"
   ]
  },
  {
   "cell_type": "code",
   "execution_count": 97,
   "id": "46064583",
   "metadata": {
    "ExecuteTime": {
     "end_time": "2021-09-16T15:35:20.859699Z",
     "start_time": "2021-09-16T15:35:15.773Z"
    }
   },
   "outputs": [
    {
     "name": "stdout",
     "output_type": "stream",
     "text": [
      "\u001b[90m# A tibble: 20 x 2\u001b[39m\n",
      "   genres             number\n",
      "   \u001b[3m\u001b[90m<chr>\u001b[39m\u001b[23m               \u001b[3m\u001b[90m<int>\u001b[39m\u001b[23m\n",
      "\u001b[90m 1\u001b[39m Drama                \u001b[4m4\u001b[24m361\n",
      "\u001b[90m 2\u001b[39m Comedy               \u001b[4m3\u001b[24m756\n",
      "\u001b[90m 3\u001b[39m Thriller             \u001b[4m1\u001b[24m894\n",
      "\u001b[90m 4\u001b[39m Action               \u001b[4m1\u001b[24m828\n",
      "\u001b[90m 5\u001b[39m Romance              \u001b[4m1\u001b[24m596\n",
      "\u001b[90m 6\u001b[39m Adventure            \u001b[4m1\u001b[24m263\n",
      "\u001b[90m 7\u001b[39m Crime                \u001b[4m1\u001b[24m199\n",
      "\u001b[90m 8\u001b[39m Sci-Fi                980\n",
      "\u001b[90m 9\u001b[39m Horror                978\n",
      "\u001b[90m10\u001b[39m Fantasy               779\n",
      "\u001b[90m11\u001b[39m Children              664\n",
      "\u001b[90m12\u001b[39m Animation             611\n",
      "\u001b[90m13\u001b[39m Mystery               573\n",
      "\u001b[90m14\u001b[39m Documentary           440\n",
      "\u001b[90m15\u001b[39m War                   382\n",
      "\u001b[90m16\u001b[39m Musical               334\n",
      "\u001b[90m17\u001b[39m Western               167\n",
      "\u001b[90m18\u001b[39m IMAX                  158\n",
      "\u001b[90m19\u001b[39m Film-Noir              87\n",
      "\u001b[90m20\u001b[39m (no genres listed)     34\n"
     ]
    }
   ],
   "source": [
    "genres_df <- movies %>%\n",
    "  separate_rows(genres, sep = \"\\\\|\") %>%\n",
    "  group_by(genres) %>%\n",
    "  summarise(number = n()) %>%\n",
    "  arrange(desc(number))\n",
    "\n",
    "print(genres_df)"
   ]
  },
  {
   "cell_type": "code",
   "execution_count": 98,
   "id": "f48fc0d5",
   "metadata": {
    "ExecuteTime": {
     "end_time": "2021-09-16T15:35:21.291559Z",
     "start_time": "2021-09-16T15:35:15.780Z"
    }
   },
   "outputs": [
    {
     "data": {
      "image/png": "[encoded data removed]",
      "text/plain": [
       "Plot with title \"Count of genres\""
      ]
     },
     "metadata": {
      "image/png": {
       "height": 420,
       "width": 420
      }
     },
     "output_type": "display_data"
    }
   ],
   "source": [
    "barplot(genres_df$number,\n",
    "main = \"Count of genres\",\n",
    "ylab = \"Count\",\n",
    "names.arg = genres_df$genres,\n",
    "las=2,\n",
    "col = \"darkred\")"
   ]
  },
  {
   "cell_type": "code",
   "execution_count": 99,
   "id": "ec98321c",
   "metadata": {
    "ExecuteTime": {
     "end_time": "2021-09-16T15:35:21.562531Z",
     "start_time": "2021-09-16T15:35:15.787Z"
    }
   },
   "outputs": [],
   "source": [
    "library(ggplot2)\n",
    "library(tidyr)\n",
    "library(stringi)\n",
    "library(reshape2)\n",
    "library(recommenderlab)"
   ]
  },
  {
   "cell_type": "code",
   "execution_count": 100,
   "id": "82082681",
   "metadata": {
    "ExecuteTime": {
     "end_time": "2021-09-16T15:35:23.177068Z",
     "start_time": "2021-09-16T15:35:15.794Z"
    }
   },
   "outputs": [],
   "source": [
    "#Create ratings matrix with rows as users and columns as movies. We don't need timestamp\n",
    "ratingmat = dcast(ratings, userId~movieId, value.var = \"rating\", na.rm=FALSE)\n",
    "\n",
    "#We can now remove user ids\n",
    "ratingmat = as.matrix(ratingmat[,-1])"
   ]
  },
  {
   "cell_type": "code",
   "execution_count": 101,
   "id": "b71f1709",
   "metadata": {
    "ExecuteTime": {
     "end_time": "2021-09-16T15:35:23.441361Z",
     "start_time": "2021-09-16T15:35:15.803Z"
    }
   },
   "outputs": [],
   "source": [
    "#Convert ratings matrix to real rating matrix which makes it dense\n",
    "ratingmat = as(ratingmat, \"realRatingMatrix\")"
   ]
  },
  {
   "cell_type": "code",
   "execution_count": 102,
   "id": "1db2f094",
   "metadata": {
    "ExecuteTime": {
     "end_time": "2021-09-16T15:35:23.490350Z",
     "start_time": "2021-09-16T15:35:15.809Z"
    }
   },
   "outputs": [],
   "source": [
    "#Normalize the ratings matrix\n",
    "ratingmat = normalize(ratingmat) "
   ]
  },
  {
   "cell_type": "code",
   "execution_count": 103,
   "id": "a0639094",
   "metadata": {
    "ExecuteTime": {
     "end_time": "2021-09-16T15:35:23.567027Z",
     "start_time": "2021-09-16T15:35:15.821Z"
    }
   },
   "outputs": [],
   "source": [
    "#Create Recommender. The parameters are UBCF and Cosine similarity. We take 10 nearest neighbours\n",
    "rec_mod = Recommender(ratingmat, method = \"UBCF\", param=list(method=\"cosine\",nn=10)) "
   ]
  },
  {
   "cell_type": "code",
   "execution_count": 104,
   "id": "9a1b1eb9",
   "metadata": {
    "ExecuteTime": {
     "end_time": "2021-09-16T15:35:23.977930Z",
     "start_time": "2021-09-16T15:35:15.827Z"
    }
   },
   "outputs": [],
   "source": [
    "eval_sets <- evaluationScheme(data = ratingmat, method = \"split\",\n",
    "train = 0.8, given = 19, goodRating = 3)"
   ]
  },
  {
   "cell_type": "code",
   "execution_count": 105,
   "id": "819b85fa",
   "metadata": {
    "ExecuteTime": {
     "end_time": "2021-09-16T15:35:24.022842Z",
     "start_time": "2021-09-16T15:35:15.831Z"
    }
   },
   "outputs": [],
   "source": [
    "models <- list(\n",
    "IBCF_cos = list(name = \"IBCF\", param = list(method = \"cosine\")),\n",
    "IBCF_cor = list(name = \"IBCF\", param = list(method = \"pearson\")),\n",
    "UBCF_cos = list(name = \"UBCF\", param = list(method = \"cosine\")),\n",
    "UBCF_cor = list(name = \"UBCF\", param = list(method = \"pearson\"))\n",
    ")"
   ]
  },
  {
   "cell_type": "code",
   "execution_count": 106,
   "id": "8ea047f4",
   "metadata": {
    "ExecuteTime": {
     "end_time": "2021-09-16T15:41:03.187908Z",
     "start_time": "2021-09-16T15:35:15.837Z"
    }
   },
   "outputs": [
    {
     "name": "stdout",
     "output_type": "stream",
     "text": [
      "IBCF run fold/sample [model time/prediction time]\n",
      "\t 1  [189.25sec/0.45sec] \n",
      "IBCF run fold/sample [model time/prediction time]\n",
      "\t 1  [126.27sec/0.36sec] \n",
      "UBCF run fold/sample [model time/prediction time]\n",
      "\t 1  [0.01sec/8.21sec] \n",
      "UBCF run fold/sample [model time/prediction time]\n",
      "\t 1  [0.02sec/4.18sec] \n"
     ]
    }
   ],
   "source": [
    "eval_results <- evaluate(x = eval_sets, method = models, n = 1:19)"
   ]
  },
  {
   "cell_type": "code",
   "execution_count": 112,
   "id": "a074f618",
   "metadata": {
    "ExecuteTime": {
     "end_time": "2021-09-16T15:55:00.493103Z",
     "start_time": "2021-09-16T15:54:59.991Z"
    }
   },
   "outputs": [
    {
     "data": {
      "image/png": "[encoded data removed]",
      "text/plain": [
       "Plot with title \"Precision-recall\""
      ]
     },
     "metadata": {
      "image/png": {
       "height": 420,
       "width": 420
      }
     },
     "output_type": "display_data"
    }
   ],
   "source": [
    "plot(eval_results, \"prec/rec\", legend = \"bottomright\") \n",
    "title(\"Precision-recall\")"
   ]
  },
  {
   "cell_type": "code",
   "execution_count": 113,
   "id": "f9b778db",
   "metadata": {
    "ExecuteTime": {
     "end_time": "2021-09-16T16:06:50.862575Z",
     "start_time": "2021-09-16T16:06:50.588Z"
    }
   },
   "outputs": [
    {
     "data": {
      "image/png": "[encoded data removed]",
      "text/plain": [
       "Plot with title \"ROC curve\""
      ]
     },
     "metadata": {
      "image/png": {
       "height": 420,
       "width": 420
      }
     },
     "output_type": "display_data"
    }
   ],
   "source": [
    "plot(eval_results, legend = \"topleft\") \n",
    "title(\"ROC curve\")"
   ]
  },
  {
   "cell_type": "code",
   "execution_count": 107,
   "id": "6928e373",
   "metadata": {
    "ExecuteTime": {
     "end_time": "2021-09-16T15:41:04.426842Z",
     "start_time": "2021-09-16T15:35:15.842Z"
    }
   },
   "outputs": [],
   "source": [
    "#Obtain top 5 recommendations for 1st user entry in dataset\n",
    "Top_5_pred = predict(rec_mod, ratingmat[1], n=5)"
   ]
  },
  {
   "cell_type": "code",
   "execution_count": 108,
   "id": "dd6217c0",
   "metadata": {
    "ExecuteTime": {
     "end_time": "2021-09-16T15:41:04.519702Z",
     "start_time": "2021-09-16T15:35:15.847Z"
    }
   },
   "outputs": [
    {
     "data": {
      "text/html": [
       "<ol>\n",
       "\t<li><style>\n",
       ".list-inline {list-style: none; margin:0; padding: 0}\n",
       ".list-inline>li {display: inline-block}\n",
       ".list-inline>li:not(:last-child)::after {content: \"\\00b7\"; padding: 0 .5ex}\n",
       "</style>\n",
       "<ol class=list-inline><li>'32'</li><li>'30803'</li><li>'5066'</li><li>'42728'</li><li>'55052'</li></ol>\n",
       "</li>\n",
       "</ol>\n"
      ],
      "text/latex": [
       "\\begin{enumerate}\n",
       "\\item \\begin{enumerate*}\n",
       "\\item '32'\n",
       "\\item '30803'\n",
       "\\item '5066'\n",
       "\\item '42728'\n",
       "\\item '55052'\n",
       "\\end{enumerate*}\n",
       "\n",
       "\\end{enumerate}\n"
      ],
      "text/markdown": [
       "1. 1. '32'\n",
       "2. '30803'\n",
       "3. '5066'\n",
       "4. '42728'\n",
       "5. '55052'\n",
       "\n",
       "\n",
       "\n",
       "\n",
       "\n"
      ],
      "text/plain": [
       "[[1]]\n",
       "[1] \"32\"    \"30803\" \"5066\"  \"42728\" \"55052\"\n"
      ]
     },
     "metadata": {},
     "output_type": "display_data"
    }
   ],
   "source": [
    "#Convert the recommendations to a list\n",
    "Top_5_List = as(Top_5_pred, \"list\")\n",
    "Top_5_List"
   ]
  },
  {
   "cell_type": "code",
   "execution_count": 109,
   "id": "5b7c584e",
   "metadata": {
    "ExecuteTime": {
     "end_time": "2021-09-16T15:41:05.318420Z",
     "start_time": "2021-09-16T15:35:15.852Z"
    }
   },
   "outputs": [
    {
     "data": {
      "text/html": [
       "<table class=\"dataframe\">\n",
       "<caption>A data.frame: 5 × 3</caption>\n",
       "<thead>\n",
       "\t<tr><th scope=col>movieId</th><th scope=col>title</th><th scope=col>genres</th></tr>\n",
       "\t<tr><th scope=col>&lt;dbl&gt;</th><th scope=col>&lt;chr&gt;</th><th scope=col>&lt;chr&gt;</th></tr>\n",
       "</thead>\n",
       "<tbody>\n",
       "\t<tr><td>   32</td><td>Twelve Monkeys (a.k.a. 12 Monkeys) (1995)</td><td>Mystery|Sci-Fi|Thriller</td></tr>\n",
       "\t<tr><td>30803</td><td>3-Iron (Bin-jip) (2004)                  </td><td>Drama|Romance          </td></tr>\n",
       "\t<tr><td> 5066</td><td>Walk to Remember, A (2002)               </td><td>Drama|Romance          </td></tr>\n",
       "\t<tr><td>42728</td><td><span style=white-space:pre-wrap>Tristan &amp; Isolde (2006)                  </span></td><td><span style=white-space:pre-wrap>Drama|Romance          </span></td></tr>\n",
       "\t<tr><td>55052</td><td>Atonement (2007)                         </td><td>Drama|Romance|War      </td></tr>\n",
       "</tbody>\n",
       "</table>\n"
      ],
      "text/latex": [
       "A data.frame: 5 × 3\n",
       "\\begin{tabular}{lll}\n",
       " movieId & title & genres\\\\\n",
       " <dbl> & <chr> & <chr>\\\\\n",
       "\\hline\n",
       "\t    32 & Twelve Monkeys (a.k.a. 12 Monkeys) (1995) & Mystery\\textbar{}Sci-Fi\\textbar{}Thriller\\\\\n",
       "\t 30803 & 3-Iron (Bin-jip) (2004)                   & Drama\\textbar{}Romance          \\\\\n",
       "\t  5066 & Walk to Remember, A (2002)                & Drama\\textbar{}Romance          \\\\\n",
       "\t 42728 & Tristan \\& Isolde (2006)                   & Drama\\textbar{}Romance          \\\\\n",
       "\t 55052 & Atonement (2007)                          & Drama\\textbar{}Romance\\textbar{}War      \\\\\n",
       "\\end{tabular}\n"
      ],
      "text/markdown": [
       "\n",
       "A data.frame: 5 × 3\n",
       "\n",
       "| movieId &lt;dbl&gt; | title &lt;chr&gt; | genres &lt;chr&gt; |\n",
       "|---|---|---|\n",
       "|    32 | Twelve Monkeys (a.k.a. 12 Monkeys) (1995) | Mystery|Sci-Fi|Thriller |\n",
       "| 30803 | 3-Iron (Bin-jip) (2004)                   | Drama|Romance           |\n",
       "|  5066 | Walk to Remember, A (2002)                | Drama|Romance           |\n",
       "| 42728 | Tristan &amp; Isolde (2006)                   | Drama|Romance           |\n",
       "| 55052 | Atonement (2007)                          | Drama|Romance|War       |\n",
       "\n"
      ],
      "text/plain": [
       "  movieId title                                     genres                 \n",
       "1    32   Twelve Monkeys (a.k.a. 12 Monkeys) (1995) Mystery|Sci-Fi|Thriller\n",
       "2 30803   3-Iron (Bin-jip) (2004)                   Drama|Romance          \n",
       "3  5066   Walk to Remember, A (2002)                Drama|Romance          \n",
       "4 42728   Tristan & Isolde (2006)                   Drama|Romance          \n",
       "5 55052   Atonement (2007)                          Drama|Romance|War      "
      ]
     },
     "metadata": {},
     "output_type": "display_data"
    }
   ],
   "source": [
    "#We convert the list to a dataframe and change the column name to movieId\n",
    "Top_5_df=data.frame(Top_5_List)\n",
    "colnames(Top_5_df)=\"movieId\"\n",
    "\n",
    "#Since movieId is of type integer in Movies data, we typecast id in our recommendations as well\n",
    "Top_5_df$movieId=as.numeric(Top_5_df$movieId)\n",
    "\n",
    "#Merge the movie ids with names to get titles and genres\n",
    "names=left_join(Top_5_df, movies, by=\"movieId\")\n",
    "\n",
    "#Print the titles and genres\n",
    "names"
   ]
  }
 ],
 "metadata": {
  "kernelspec": {
   "display_name": "R",
   "language": "R",
   "name": "ir"
  },
  "language_info": {
   "codemirror_mode": "r",
   "file_extension": ".r",
   "mimetype": "text/x-r-source",
   "name": "R",
   "pygments_lexer": "r",
   "version": "4.1.1"
  },
  "varInspector": {
   "cols": {
    "lenName": 16,
    "lenType": 16,
    "lenVar": 40
   },
   "kernels_config": {
    "python": {
     "delete_cmd_postfix": "",
     "delete_cmd_prefix": "del ",
     "library": "var_list.py",
     "varRefreshCmd": "print(var_dic_list())"
    },
    "r": {
     "delete_cmd_postfix": ") ",
     "delete_cmd_prefix": "rm(",
     "library": "var_list.r",
     "varRefreshCmd": "cat(var_dic_list()) "
    }
   },
   "types_to_exclude": [
    "module",
    "function",
    "builtin_function_or_method",
    "instance",
    "_Feature"
   ],
   "window_display": false
  }
 },
 "nbformat": 4,
 "nbformat_minor": 5
}
